{
 "cells": [
  {
   "cell_type": "markdown",
   "metadata": {},
   "source": [
    "# Acoustic Anomaly Detection with Azure Machine Learning\n",
    "\n",
    "## 0. Azure ML workspace\n",
    "<img src=\"https://github.com/retkowsky/Audio_Analytics_With_AzureML/raw/main/image.jpg\" width = 800>\n",
    "<div class=\"alert alert-info\"> <b> Settings</b></div>\n",
    "\n",
    "Serge Retkowsky | serge.retkowsky@microsoft.com | 31-May-2022 | V2"
   ]
  },
  {
   "cell_type": "code",
   "execution_count": 1,
   "metadata": {},
   "outputs": [],
   "source": [
    "import sys\n",
    "import os\n",
    "import datetime"
   ]
  },
  {
   "cell_type": "code",
   "execution_count": 2,
   "metadata": {},
   "outputs": [
    {
     "name": "stdout",
     "output_type": "stream",
     "text": [
      "Python version = 3.8.5 (default, Sep  4 2020, 07:30:14) \n",
      "[GCC 7.3.0]\n"
     ]
    }
   ],
   "source": [
    "print(\"Python version =\", sys.version)"
   ]
  },
  {
   "cell_type": "code",
   "execution_count": 3,
   "metadata": {},
   "outputs": [
    {
     "name": "stdout",
     "output_type": "stream",
     "text": [
      "2022-05-31 08:54:29.123370\n"
     ]
    }
   ],
   "source": [
    "print(datetime.datetime.now())"
   ]
  },
  {
   "cell_type": "markdown",
   "metadata": {},
   "source": [
    "## Azure ML workspace"
   ]
  },
  {
   "cell_type": "code",
   "execution_count": 4,
   "metadata": {},
   "outputs": [],
   "source": [
    "subscription_id = os.environ.get(\"SUBSCRIPTION_ID\", \"TOBEREPLACED\")\n",
    "resource_group = os.environ.get(\"RESOURCE_GROUP\", \"azuremlsound-rg\")\n",
    "workspace_name = os.environ.get(\"WORKSPACE_NAME\", \"azuremlsound\")"
   ]
  },
  {
   "cell_type": "code",
   "execution_count": 5,
   "metadata": {},
   "outputs": [
    {
     "name": "stdout",
     "output_type": "stream",
     "text": [
      "[OK] Workspace configuration saved.\n"
     ]
    }
   ],
   "source": [
    "from azureml.core import Workspace\n",
    "\n",
    "try:\n",
    "    ws = Workspace(subscription_id = subscription_id, \n",
    "                   resource_group = resource_group, \n",
    "                   workspace_name = workspace_name)\n",
    "    ws.write_config()\n",
    "    print(\"[OK] Workspace configuration saved.\")\n",
    "\n",
    "except:\n",
    "    print(\"[Error] Workspace not found!\")"
   ]
  },
  {
   "cell_type": "code",
   "execution_count": 6,
   "metadata": {},
   "outputs": [
    {
     "name": "stdout",
     "output_type": "stream",
     "text": [
      "Loading Azure ML workspace config...\n",
      "\n",
      "[OK] Workspace is available\n",
      "Azure ML workspace: azuremlsound\n",
      "Azure ML resource group: azuremlsound-rg\n"
     ]
    }
   ],
   "source": [
    "try:\n",
    "    print(\"Loading Azure ML workspace config...\")\n",
    "    ws = Workspace.from_config()\n",
    "    # ws.get_details()\n",
    "    print(\"\\n[OK] Workspace is available\")\n",
    "    print(\"Azure ML workspace:\", ws.name)\n",
    "    print(\"Azure ML resource group:\", ws.resource_group)\n",
    "\n",
    "except:\n",
    "    print(\"[Error] Cannot load configuration\")"
   ]
  },
  {
   "cell_type": "code",
   "execution_count": 7,
   "metadata": {},
   "outputs": [
    {
     "name": "stdout",
     "output_type": "stream",
     "text": [
      "Azure ML version is: 1.41.0\n",
      "This notebook was made with Azure ML 1.41.0\n"
     ]
    }
   ],
   "source": [
    "import azureml.core\n",
    "print(\"Azure ML version is:\", azureml.core.VERSION)\n",
    "print(\"This notebook was made with Azure ML 1.41.0\")"
   ]
  },
  {
   "cell_type": "markdown",
   "metadata": {},
   "source": [
    "> End. You can go to the next notebook"
   ]
  },
  {
   "cell_type": "markdown",
   "metadata": {},
   "source": [
    "Note: All these Python notebooks were made for demo purposes. They were not designed for production usage. Some feature can be currently in public preview. This preview version is provided without a service-level agreement. Certain features might not be supported or might have constrained capabilities. For more information, see Supplemental Terms of Use for Microsoft Azure Previews. https://azure.microsoft.com/en-us/support/legal/preview-supplemental-terms/"
   ]
  },
  {
   "cell_type": "code",
   "execution_count": null,
   "metadata": {},
   "outputs": [],
   "source": []
  }
 ],
 "metadata": {
  "kernelspec": {
   "display_name": "Python 3.8 - AzureML",
   "language": "python",
   "name": "python38-azureml"
  },
  "language_info": {
   "codemirror_mode": {
    "name": "ipython",
    "version": 3
   },
   "file_extension": ".py",
   "mimetype": "text/x-python",
   "name": "python",
   "nbconvert_exporter": "python",
   "pygments_lexer": "ipython3",
   "version": "3.8.5"
  },
  "nteract": {
   "version": "nteract-front-end@1.0.0"
  }
 },
 "nbformat": 4,
 "nbformat_minor": 1
}
