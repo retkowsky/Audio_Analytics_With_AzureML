{
 "cells": [
  {
   "cell_type": "markdown",
   "id": "570a3226",
   "metadata": {},
   "source": [
    "# Music Genre Classification\n",
    "\n",
    "## 1. Download Music Genre Classification audio files\n",
    "\n",
    "<img src='music.jpg' width = 600>\n",
    "\n",
    "<div class=\"alert alert-info\"> <b> Episode 01: In this notebook we will download music audio files</b></div>\n",
    "\n",
    "Serge Retkowsky | serge.retkowsky@microsoft.com | 07-Mar-2022 | V1"
   ]
  },
  {
   "cell_type": "markdown",
   "id": "ce7c9fb4",
   "metadata": {},
   "source": [
    "We are going to download the music genre collection. <br>\n",
    "The dataset consists of 1000 audio tracks each 30 seconds long. It contains 10 genres, each represented by 100 tracks. The tracks are all 22050Hz Mono 16-bit audio files in .wav format.\n",
    "\n",
    "This is the first episod of this series."
   ]
  },
  {
   "cell_type": "code",
   "execution_count": 1,
   "id": "f9f298e5",
   "metadata": {},
   "outputs": [],
   "source": [
    "import os\n",
    "import tarfile\n",
    "import time\n",
    "import datetime\n",
    "import os.path\n",
    "from os import path\n",
    "import sys"
   ]
  },
  {
   "cell_type": "code",
   "execution_count": 2,
   "id": "34ca90cb",
   "metadata": {},
   "outputs": [
    {
     "data": {
      "text/plain": [
       "'3.6.9 |Anaconda, Inc.| (default, Jul 30 2019, 19:07:31) \\n[GCC 7.3.0]'"
      ]
     },
     "execution_count": 2,
     "metadata": {},
     "output_type": "execute_result"
    }
   ],
   "source": [
    "sys.version"
   ]
  },
  {
   "cell_type": "code",
   "execution_count": null,
   "id": "30aa8157",
   "metadata": {},
   "outputs": [],
   "source": [
    "def fileinfos(LOCALFILE):\n",
    "    timefile1 = os.path.getmtime(LOCALFILE)\n",
    "    timefile = time.ctime(timefile1)\n",
    "    timefile = time.strptime(timefile)\n",
    "    timestamp = time.strftime(\"%Y-%m-%d %H:%M:%S\", timefile)\n",
    "    file_size = os.path.getsize(LOCALFILE)\n",
    "    file_size_mb = str(round(file_size/1024**2, 2))\n",
    "    print(LOCALFILE, '-', timestamp, '-', file_size_mb, 'Mb')"
   ]
  },
  {
   "cell_type": "code",
   "execution_count": null,
   "id": "9a9710cb",
   "metadata": {},
   "outputs": [],
   "source": [
    "def dirfiles(mypath):\n",
    "    print(\"Total of files in\", mypath, \"=\", sum(len(files) for _, _, files in os.walk(mypath)), \"\\n\")\n",
    "    for root, _, files in os.walk(mypath):\n",
    "        print(root, \":\", len(files), \"files\")"
   ]
  },
  {
   "cell_type": "code",
   "execution_count": null,
   "id": "ca342f00",
   "metadata": {},
   "outputs": [],
   "source": [
    "def createdir(dirname):\n",
    "    if path.os.path.isdir(dirname):\n",
    "        print(\"Directory:\", dirname, \"exists!\")\n",
    "    else:\n",
    "        print(\"Creating directory:\", dirname)\n",
    "        os.mkdir(dirname)\n",
    "        print(\"Done\")"
   ]
  },
  {
   "cell_type": "code",
   "execution_count": null,
   "id": "f7326bc1",
   "metadata": {},
   "outputs": [],
   "source": [
    "now = datetime.datetime.today()\n",
    "print ('Today is ' + str(now))"
   ]
  },
  {
   "cell_type": "markdown",
   "id": "1d940ce3",
   "metadata": {},
   "source": [
    "## Downloading the music files"
   ]
  },
  {
   "cell_type": "code",
   "execution_count": null,
   "id": "cedeed67",
   "metadata": {},
   "outputs": [],
   "source": [
    "AUDIODIR = 'audiofiles'"
   ]
  },
  {
   "cell_type": "code",
   "execution_count": null,
   "id": "bca563f3",
   "metadata": {},
   "outputs": [],
   "source": [
    "createdir(AUDIODIR)"
   ]
  },
  {
   "cell_type": "code",
   "execution_count": null,
   "id": "66c16454",
   "metadata": {},
   "outputs": [],
   "source": [
    "os.chdir(AUDIODIR)\n",
    "os.getcwd()"
   ]
  },
  {
   "cell_type": "code",
   "execution_count": null,
   "id": "616e0e68",
   "metadata": {},
   "outputs": [],
   "source": [
    "t1 = datetime.datetime.now()\n",
    "print(t1, \"Downloading the audio files...\\n\")\n",
    "!wget http://opihi.cs.uvic.ca/sound/genres.tar.gz\n",
    "print(\"\\nDone in\", datetime.datetime.now() - t1)"
   ]
  },
  {
   "cell_type": "markdown",
   "id": "230cae11",
   "metadata": {},
   "source": [
    "> This step will require around 20-25 minutes to complete depending on your network speed"
   ]
  },
  {
   "cell_type": "markdown",
   "id": "5daf055a",
   "metadata": {},
   "source": [
    "## Unzipping the files"
   ]
  },
  {
   "cell_type": "code",
   "execution_count": null,
   "id": "f2ec44a7",
   "metadata": {},
   "outputs": [],
   "source": [
    "AUDIOFILE = \"genres.tar.gz\"\n",
    "fileinfos(AUDIOFILE)"
   ]
  },
  {
   "cell_type": "code",
   "execution_count": null,
   "id": "686db246",
   "metadata": {},
   "outputs": [],
   "source": [
    "t1 = datetime.datetime.now()\n",
    "\n",
    "file = tarfile.open(AUDIOFILE)\n",
    "print(t1, \"Uncompressing the file\", AUDIOFILE)\n",
    "print(\"Please wait...\\n\")\n",
    "print(\"Filenames:\")\n",
    "print(file.getnames())\n",
    "file.extractall('.')\n",
    "file.close()\n",
    "\n",
    "print(\"\\nDone in\", datetime.datetime.now() - t1)"
   ]
  },
  {
   "cell_type": "markdown",
   "id": "bea1e1bd",
   "metadata": {},
   "source": [
    "## Removing the downloaded file"
   ]
  },
  {
   "cell_type": "code",
   "execution_count": null,
   "id": "13472255",
   "metadata": {},
   "outputs": [],
   "source": [
    "print(\"Deleting the file:\", AUDIOFILE)\n",
    "os.remove(AUDIOFILE)\n",
    "print(\"Done\")"
   ]
  },
  {
   "cell_type": "markdown",
   "id": "3a35c827",
   "metadata": {},
   "source": [
    "## List of audio files"
   ]
  },
  {
   "cell_type": "code",
   "execution_count": null,
   "id": "bb3b7f09",
   "metadata": {},
   "outputs": [],
   "source": [
    "os.chdir('..')"
   ]
  },
  {
   "cell_type": "code",
   "execution_count": null,
   "id": "ae581b53",
   "metadata": {},
   "outputs": [],
   "source": [
    "dirfiles(AUDIODIR)"
   ]
  },
  {
   "cell_type": "markdown",
   "id": "8496e829",
   "metadata": {},
   "source": [
    "> End of this notebook. You can use the next notebook."
   ]
  },
  {
   "cell_type": "code",
   "execution_count": null,
   "id": "a36a46f8",
   "metadata": {},
   "outputs": [],
   "source": []
  }
 ],
 "metadata": {
  "kernelspec": {
   "display_name": "Python 3.6 - AzureML",
   "language": "python",
   "name": "python3-azureml"
  },
  "language_info": {
   "codemirror_mode": {
    "name": "ipython",
    "version": 3
   },
   "file_extension": ".py",
   "mimetype": "text/x-python",
   "name": "python",
   "nbconvert_exporter": "python",
   "pygments_lexer": "ipython3",
   "version": "3.6.9"
  }
 },
 "nbformat": 4,
 "nbformat_minor": 5
}
