{
 "cells": [
  {
   "cell_type": "markdown",
   "id": "557aff23",
   "metadata": {},
   "source": [
    "# Anomaly Sound Detection\n",
    "\n",
    "## 1. Generating audio samples\n",
    "\n",
    "<img src='soundanomaly.jpg' width = 600>\n",
    "\n",
    "<div class=\"alert alert-info\"> <b> In this notebook We will generate some audio files</b></div>\n",
    "\n",
    "Serge Retkowsky | serge.retkowsky@microsoft.com | 02-Mar-2022 | V1"
   ]
  },
  {
   "cell_type": "code",
   "execution_count": 1,
   "id": "ccbd719e",
   "metadata": {},
   "outputs": [
    {
     "name": "stderr",
     "output_type": "stream",
     "text": [
      "/anaconda/envs/azureml_py36/lib/python3.6/site-packages/pydub/utils.py:170: RuntimeWarning: Couldn't find ffmpeg or avconv - defaulting to ffmpeg, but may not work\n",
      "  warn(\"Couldn't find ffmpeg or avconv - defaulting to ffmpeg, but may not work\", RuntimeWarning)\n"
     ]
    }
   ],
   "source": [
    "from pydub import AudioSegment\n",
    "from pydub.utils import make_chunks"
   ]
  },
  {
   "cell_type": "code",
   "execution_count": 2,
   "id": "a2f6d663",
   "metadata": {},
   "outputs": [
    {
     "data": {
      "text/plain": [
       "'3.6.9 |Anaconda, Inc.| (default, Jul 30 2019, 19:07:31) \\n[GCC 7.3.0]'"
      ]
     },
     "execution_count": 2,
     "metadata": {},
     "output_type": "execute_result"
    }
   ],
   "source": [
    "import sys\n",
    "sys.version"
   ]
  },
  {
   "cell_type": "code",
   "execution_count": 3,
   "id": "86142e96",
   "metadata": {},
   "outputs": [
    {
     "name": "stdout",
     "output_type": "stream",
     "text": [
      "Current Date: 2022-03-02 15:07:06.674715\n"
     ]
    }
   ],
   "source": [
    "import datetime\n",
    "Current_Date = datetime.datetime.today()\n",
    "print ('Current Date: ' + str(Current_Date))"
   ]
  },
  {
   "cell_type": "code",
   "execution_count": 4,
   "id": "ca5354df",
   "metadata": {},
   "outputs": [],
   "source": [
    "os.mkdir('soundssamples')\n",
    "os.mkdir('soundssamples/OK')\n",
    "os.mkdir('soundssamples/KO')"
   ]
  },
  {
   "cell_type": "markdown",
   "id": "ac0b0a58",
   "metadata": {},
   "source": [
    "## Initial audio files"
   ]
  },
  {
   "cell_type": "code",
   "execution_count": 5,
   "id": "153fd655",
   "metadata": {},
   "outputs": [
    {
     "name": "stdout",
     "output_type": "stream",
     "text": [
      "73002 -rwxrwxrwx 1 root root 74753800 Mar  2 15:01 sounds/machine.wav\r\n",
      "73002 -rwxrwxrwx 1 root root 74753800 Mar  2 15:01 sounds/machinewithnoise.wav\r\n"
     ]
    }
   ],
   "source": [
    "!ls sounds/*.* -ls"
   ]
  },
  {
   "cell_type": "markdown",
   "id": "fa933ff5",
   "metadata": {},
   "source": [
    "## 7 seconds files generation"
   ]
  },
  {
   "cell_type": "code",
   "execution_count": 6,
   "id": "29df4a5b",
   "metadata": {},
   "outputs": [
    {
     "name": "stdout",
     "output_type": "stream",
     "text": [
      "1 \tExporting soundssamples/OK/machine_OK_1.wav\n",
      "2 \tExporting soundssamples/OK/machine_OK_2.wav\n",
      "3 \tExporting soundssamples/OK/machine_OK_3.wav\n",
      "4 \tExporting soundssamples/OK/machine_OK_4.wav\n",
      "5 \tExporting soundssamples/OK/machine_OK_5.wav\n",
      "6 \tExporting soundssamples/OK/machine_OK_6.wav\n",
      "7 \tExporting soundssamples/OK/machine_OK_7.wav\n",
      "8 \tExporting soundssamples/OK/machine_OK_8.wav\n",
      "9 \tExporting soundssamples/OK/machine_OK_9.wav\n",
      "10 \tExporting soundssamples/OK/machine_OK_10.wav\n",
      "11 \tExporting soundssamples/OK/machine_OK_11.wav\n",
      "12 \tExporting soundssamples/OK/machine_OK_12.wav\n",
      "13 \tExporting soundssamples/OK/machine_OK_13.wav\n",
      "14 \tExporting soundssamples/OK/machine_OK_14.wav\n",
      "15 \tExporting soundssamples/OK/machine_OK_15.wav\n",
      "16 \tExporting soundssamples/OK/machine_OK_16.wav\n",
      "17 \tExporting soundssamples/OK/machine_OK_17.wav\n",
      "18 \tExporting soundssamples/OK/machine_OK_18.wav\n",
      "19 \tExporting soundssamples/OK/machine_OK_19.wav\n",
      "20 \tExporting soundssamples/OK/machine_OK_20.wav\n",
      "21 \tExporting soundssamples/OK/machine_OK_21.wav\n",
      "22 \tExporting soundssamples/OK/machine_OK_22.wav\n",
      "23 \tExporting soundssamples/OK/machine_OK_23.wav\n",
      "24 \tExporting soundssamples/OK/machine_OK_24.wav\n",
      "25 \tExporting soundssamples/OK/machine_OK_25.wav\n",
      "26 \tExporting soundssamples/OK/machine_OK_26.wav\n",
      "27 \tExporting soundssamples/OK/machine_OK_27.wav\n",
      "28 \tExporting soundssamples/OK/machine_OK_28.wav\n",
      "29 \tExporting soundssamples/OK/machine_OK_29.wav\n",
      "30 \tExporting soundssamples/OK/machine_OK_30.wav\n",
      "31 \tExporting soundssamples/OK/machine_OK_31.wav\n",
      "32 \tExporting soundssamples/OK/machine_OK_32.wav\n",
      "33 \tExporting soundssamples/OK/machine_OK_33.wav\n",
      "34 \tExporting soundssamples/OK/machine_OK_34.wav\n",
      "35 \tExporting soundssamples/OK/machine_OK_35.wav\n",
      "36 \tExporting soundssamples/OK/machine_OK_36.wav\n",
      "37 \tExporting soundssamples/OK/machine_OK_37.wav\n",
      "38 \tExporting soundssamples/OK/machine_OK_38.wav\n",
      "39 \tExporting soundssamples/OK/machine_OK_39.wav\n",
      "40 \tExporting soundssamples/OK/machine_OK_40.wav\n",
      "41 \tExporting soundssamples/OK/machine_OK_41.wav\n",
      "42 \tExporting soundssamples/OK/machine_OK_42.wav\n",
      "43 \tExporting soundssamples/OK/machine_OK_43.wav\n",
      "44 \tExporting soundssamples/OK/machine_OK_44.wav\n",
      "45 \tExporting soundssamples/OK/machine_OK_45.wav\n",
      "46 \tExporting soundssamples/OK/machine_OK_46.wav\n",
      "47 \tExporting soundssamples/OK/machine_OK_47.wav\n",
      "48 \tExporting soundssamples/OK/machine_OK_48.wav\n",
      "49 \tExporting soundssamples/OK/machine_OK_49.wav\n",
      "50 \tExporting soundssamples/OK/machine_OK_50.wav\n",
      "51 \tExporting soundssamples/OK/machine_OK_51.wav\n",
      "52 \tExporting soundssamples/OK/machine_OK_52.wav\n",
      "53 \tExporting soundssamples/OK/machine_OK_53.wav\n",
      "54 \tExporting soundssamples/OK/machine_OK_54.wav\n",
      "55 \tExporting soundssamples/OK/machine_OK_55.wav\n",
      "56 \tExporting soundssamples/OK/machine_OK_56.wav\n",
      "57 \tExporting soundssamples/OK/machine_OK_57.wav\n",
      "58 \tExporting soundssamples/OK/machine_OK_58.wav\n",
      "59 \tExporting soundssamples/OK/machine_OK_59.wav\n",
      "60 \tExporting soundssamples/OK/machine_OK_60.wav\n",
      "61 \tExporting soundssamples/OK/machine_OK_61.wav\n"
     ]
    }
   ],
   "source": [
    "soundfile = 'sounds/machine.wav'\n",
    "\n",
    "myaudio = AudioSegment.from_file(soundfile, \"wav\") \n",
    "\n",
    "chunk_length_ms = 7000 # in millisec\n",
    "chunks = make_chunks(myaudio, chunk_length_ms) #Make chunks\n",
    "\n",
    "for i, chunk in enumerate(chunks):\n",
    "    chunk_name = \"soundssamples/OK/machine_OK_{0}.wav\".format(i+1)\n",
    "    print(i+1, \"\\tExporting\", chunk_name)\n",
    "    chunk.export(chunk_name, format=\"wav\")"
   ]
  },
  {
   "cell_type": "code",
   "execution_count": 8,
   "id": "96a23359",
   "metadata": {},
   "outputs": [
    {
     "name": "stdout",
     "output_type": "stream",
     "text": [
      "Directory: soundssamples/OK/ with 61 files\n"
     ]
    }
   ],
   "source": [
    "for root, _, files in os.walk('soundssamples/OK/'):\n",
    "    print(\"Directory:\", root, \"with\", len(files), \"files\")"
   ]
  },
  {
   "cell_type": "code",
   "execution_count": 9,
   "id": "c2817055",
   "metadata": {},
   "outputs": [
    {
     "name": "stdout",
     "output_type": "stream",
     "text": [
      "1 \tExporting soundssamples/KO/machine_KO_1.wav\n",
      "2 \tExporting soundssamples/KO/machine_KO_2.wav\n",
      "3 \tExporting soundssamples/KO/machine_KO_3.wav\n",
      "4 \tExporting soundssamples/KO/machine_KO_4.wav\n",
      "5 \tExporting soundssamples/KO/machine_KO_5.wav\n",
      "6 \tExporting soundssamples/KO/machine_KO_6.wav\n",
      "7 \tExporting soundssamples/KO/machine_KO_7.wav\n",
      "8 \tExporting soundssamples/KO/machine_KO_8.wav\n",
      "9 \tExporting soundssamples/KO/machine_KO_9.wav\n",
      "10 \tExporting soundssamples/KO/machine_KO_10.wav\n",
      "11 \tExporting soundssamples/KO/machine_KO_11.wav\n",
      "12 \tExporting soundssamples/KO/machine_KO_12.wav\n",
      "13 \tExporting soundssamples/KO/machine_KO_13.wav\n",
      "14 \tExporting soundssamples/KO/machine_KO_14.wav\n",
      "15 \tExporting soundssamples/KO/machine_KO_15.wav\n",
      "16 \tExporting soundssamples/KO/machine_KO_16.wav\n",
      "17 \tExporting soundssamples/KO/machine_KO_17.wav\n",
      "18 \tExporting soundssamples/KO/machine_KO_18.wav\n",
      "19 \tExporting soundssamples/KO/machine_KO_19.wav\n",
      "20 \tExporting soundssamples/KO/machine_KO_20.wav\n",
      "21 \tExporting soundssamples/KO/machine_KO_21.wav\n",
      "22 \tExporting soundssamples/KO/machine_KO_22.wav\n",
      "23 \tExporting soundssamples/KO/machine_KO_23.wav\n",
      "24 \tExporting soundssamples/KO/machine_KO_24.wav\n",
      "25 \tExporting soundssamples/KO/machine_KO_25.wav\n",
      "26 \tExporting soundssamples/KO/machine_KO_26.wav\n",
      "27 \tExporting soundssamples/KO/machine_KO_27.wav\n",
      "28 \tExporting soundssamples/KO/machine_KO_28.wav\n",
      "29 \tExporting soundssamples/KO/machine_KO_29.wav\n",
      "30 \tExporting soundssamples/KO/machine_KO_30.wav\n",
      "31 \tExporting soundssamples/KO/machine_KO_31.wav\n",
      "32 \tExporting soundssamples/KO/machine_KO_32.wav\n",
      "33 \tExporting soundssamples/KO/machine_KO_33.wav\n",
      "34 \tExporting soundssamples/KO/machine_KO_34.wav\n",
      "35 \tExporting soundssamples/KO/machine_KO_35.wav\n",
      "36 \tExporting soundssamples/KO/machine_KO_36.wav\n",
      "37 \tExporting soundssamples/KO/machine_KO_37.wav\n",
      "38 \tExporting soundssamples/KO/machine_KO_38.wav\n",
      "39 \tExporting soundssamples/KO/machine_KO_39.wav\n",
      "40 \tExporting soundssamples/KO/machine_KO_40.wav\n",
      "41 \tExporting soundssamples/KO/machine_KO_41.wav\n",
      "42 \tExporting soundssamples/KO/machine_KO_42.wav\n",
      "43 \tExporting soundssamples/KO/machine_KO_43.wav\n",
      "44 \tExporting soundssamples/KO/machine_KO_44.wav\n",
      "45 \tExporting soundssamples/KO/machine_KO_45.wav\n",
      "46 \tExporting soundssamples/KO/machine_KO_46.wav\n",
      "47 \tExporting soundssamples/KO/machine_KO_47.wav\n",
      "48 \tExporting soundssamples/KO/machine_KO_48.wav\n",
      "49 \tExporting soundssamples/KO/machine_KO_49.wav\n",
      "50 \tExporting soundssamples/KO/machine_KO_50.wav\n",
      "51 \tExporting soundssamples/KO/machine_KO_51.wav\n",
      "52 \tExporting soundssamples/KO/machine_KO_52.wav\n",
      "53 \tExporting soundssamples/KO/machine_KO_53.wav\n",
      "54 \tExporting soundssamples/KO/machine_KO_54.wav\n",
      "55 \tExporting soundssamples/KO/machine_KO_55.wav\n",
      "56 \tExporting soundssamples/KO/machine_KO_56.wav\n",
      "57 \tExporting soundssamples/KO/machine_KO_57.wav\n",
      "58 \tExporting soundssamples/KO/machine_KO_58.wav\n",
      "59 \tExporting soundssamples/KO/machine_KO_59.wav\n",
      "60 \tExporting soundssamples/KO/machine_KO_60.wav\n",
      "61 \tExporting soundssamples/KO/machine_KO_61.wav\n"
     ]
    }
   ],
   "source": [
    "soundfile = 'sounds/machinewithnoise.wav'\n",
    "\n",
    "myaudio = AudioSegment.from_file(soundfile, \"wav\") \n",
    "\n",
    "chunk_length_ms = 7000 # in millisec\n",
    "chunks = make_chunks(myaudio, chunk_length_ms) #Make chunks\n",
    "\n",
    "for i, chunk in enumerate(chunks):\n",
    "    chunk_name = \"soundssamples/KO/machine_KO_{0}.wav\".format(i+1)\n",
    "    print(i+1, \"\\tExporting\", chunk_name)\n",
    "    chunk.export(chunk_name, format=\"wav\")"
   ]
  },
  {
   "cell_type": "code",
   "execution_count": 10,
   "id": "396b43c4",
   "metadata": {},
   "outputs": [
    {
     "name": "stdout",
     "output_type": "stream",
     "text": [
      "Directory: soundssamples/KO/ with 61 files.\n"
     ]
    }
   ],
   "source": [
    "for root, _, files in os.walk('soundssamples/KO/'):\n",
    "    print(\"Directory:\", root, \"with\", len(files), \"files.\")"
   ]
  },
  {
   "cell_type": "code",
   "execution_count": 11,
   "id": "43d9ee0e",
   "metadata": {},
   "outputs": [
    {
     "name": "stdout",
     "output_type": "stream",
     "text": [
      "total 73011\r\n",
      "1206 -rwxrwxrwx 1 root root 1234844 Mar  2 15:07 machine_OK_1.wav\r\n",
      "1206 -rwxrwxrwx 1 root root 1234844 Mar  2 15:07 machine_OK_10.wav\r\n",
      "1206 -rwxrwxrwx 1 root root 1234844 Mar  2 15:07 machine_OK_11.wav\r\n",
      "1206 -rwxrwxrwx 1 root root 1234844 Mar  2 15:07 machine_OK_12.wav\r\n",
      "1206 -rwxrwxrwx 1 root root 1234844 Mar  2 15:07 machine_OK_13.wav\r\n",
      "1206 -rwxrwxrwx 1 root root 1234844 Mar  2 15:07 machine_OK_14.wav\r\n",
      "1206 -rwxrwxrwx 1 root root 1234844 Mar  2 15:07 machine_OK_15.wav\r\n",
      "1206 -rwxrwxrwx 1 root root 1234844 Mar  2 15:07 machine_OK_16.wav\r\n",
      "1206 -rwxrwxrwx 1 root root 1234844 Mar  2 15:07 machine_OK_17.wav\r\n",
      "1206 -rwxrwxrwx 1 root root 1234844 Mar  2 15:07 machine_OK_18.wav\r\n",
      "1206 -rwxrwxrwx 1 root root 1234844 Mar  2 15:07 machine_OK_19.wav\r\n",
      "1206 -rwxrwxrwx 1 root root 1234844 Mar  2 15:07 machine_OK_2.wav\r\n",
      "1206 -rwxrwxrwx 1 root root 1234844 Mar  2 15:07 machine_OK_20.wav\r\n",
      "1206 -rwxrwxrwx 1 root root 1234844 Mar  2 15:07 machine_OK_21.wav\r\n",
      "1206 -rwxrwxrwx 1 root root 1234844 Mar  2 15:07 machine_OK_22.wav\r\n",
      "1206 -rwxrwxrwx 1 root root 1234844 Mar  2 15:07 machine_OK_23.wav\r\n",
      "1206 -rwxrwxrwx 1 root root 1234844 Mar  2 15:07 machine_OK_24.wav\r\n",
      "1206 -rwxrwxrwx 1 root root 1234844 Mar  2 15:07 machine_OK_25.wav\r\n",
      "1206 -rwxrwxrwx 1 root root 1234844 Mar  2 15:07 machine_OK_26.wav\r\n",
      "1206 -rwxrwxrwx 1 root root 1234844 Mar  2 15:07 machine_OK_27.wav\r\n",
      "1206 -rwxrwxrwx 1 root root 1234844 Mar  2 15:07 machine_OK_28.wav\r\n",
      "1206 -rwxrwxrwx 1 root root 1234844 Mar  2 15:07 machine_OK_29.wav\r\n",
      "1206 -rwxrwxrwx 1 root root 1234844 Mar  2 15:07 machine_OK_3.wav\r\n",
      "1206 -rwxrwxrwx 1 root root 1234844 Mar  2 15:07 machine_OK_30.wav\r\n",
      "1206 -rwxrwxrwx 1 root root 1234844 Mar  2 15:07 machine_OK_31.wav\r\n",
      "1206 -rwxrwxrwx 1 root root 1234844 Mar  2 15:07 machine_OK_32.wav\r\n",
      "1206 -rwxrwxrwx 1 root root 1234844 Mar  2 15:07 machine_OK_33.wav\r\n",
      "1206 -rwxrwxrwx 1 root root 1234844 Mar  2 15:07 machine_OK_34.wav\r\n",
      "1206 -rwxrwxrwx 1 root root 1234844 Mar  2 15:07 machine_OK_35.wav\r\n",
      "1206 -rwxrwxrwx 1 root root 1234844 Mar  2 15:07 machine_OK_36.wav\r\n",
      "1206 -rwxrwxrwx 1 root root 1234844 Mar  2 15:07 machine_OK_37.wav\r\n",
      "1206 -rwxrwxrwx 1 root root 1234844 Mar  2 15:07 machine_OK_38.wav\r\n",
      "1206 -rwxrwxrwx 1 root root 1234844 Mar  2 15:07 machine_OK_39.wav\r\n",
      "1206 -rwxrwxrwx 1 root root 1234844 Mar  2 15:07 machine_OK_4.wav\r\n",
      "1206 -rwxrwxrwx 1 root root 1234844 Mar  2 15:07 machine_OK_40.wav\r\n",
      "1206 -rwxrwxrwx 1 root root 1234844 Mar  2 15:07 machine_OK_41.wav\r\n",
      "1206 -rwxrwxrwx 1 root root 1234844 Mar  2 15:07 machine_OK_42.wav\r\n",
      "1206 -rwxrwxrwx 1 root root 1234844 Mar  2 15:07 machine_OK_43.wav\r\n",
      "1206 -rwxrwxrwx 1 root root 1234844 Mar  2 15:07 machine_OK_44.wav\r\n",
      "1206 -rwxrwxrwx 1 root root 1234844 Mar  2 15:07 machine_OK_45.wav\r\n",
      "1206 -rwxrwxrwx 1 root root 1234844 Mar  2 15:07 machine_OK_46.wav\r\n",
      "1206 -rwxrwxrwx 1 root root 1234844 Mar  2 15:07 machine_OK_47.wav\r\n",
      "1206 -rwxrwxrwx 1 root root 1234844 Mar  2 15:07 machine_OK_48.wav\r\n",
      "1206 -rwxrwxrwx 1 root root 1234844 Mar  2 15:07 machine_OK_49.wav\r\n",
      "1206 -rwxrwxrwx 1 root root 1234844 Mar  2 15:07 machine_OK_5.wav\r\n",
      "1206 -rwxrwxrwx 1 root root 1234844 Mar  2 15:07 machine_OK_50.wav\r\n",
      "1206 -rwxrwxrwx 1 root root 1234844 Mar  2 15:07 machine_OK_51.wav\r\n",
      "1206 -rwxrwxrwx 1 root root 1234844 Mar  2 15:07 machine_OK_52.wav\r\n",
      "1206 -rwxrwxrwx 1 root root 1234844 Mar  2 15:07 machine_OK_53.wav\r\n",
      "1206 -rwxrwxrwx 1 root root 1234844 Mar  2 15:07 machine_OK_54.wav\r\n",
      "1206 -rwxrwxrwx 1 root root 1234844 Mar  2 15:07 machine_OK_55.wav\r\n",
      "1206 -rwxrwxrwx 1 root root 1234844 Mar  2 15:07 machine_OK_56.wav\r\n",
      "1206 -rwxrwxrwx 1 root root 1234844 Mar  2 15:07 machine_OK_57.wav\r\n",
      "1206 -rwxrwxrwx 1 root root 1234844 Mar  2 15:07 machine_OK_58.wav\r\n",
      "1206 -rwxrwxrwx 1 root root 1234844 Mar  2 15:07 machine_OK_59.wav\r\n",
      "1206 -rwxrwxrwx 1 root root 1234844 Mar  2 15:07 machine_OK_6.wav\r\n",
      "1206 -rwxrwxrwx 1 root root 1234844 Mar  2 15:07 machine_OK_60.wav\r\n",
      " 651 -rwxrwxrwx 1 root root  665776 Mar  2 15:07 machine_OK_61.wav\r\n",
      "1206 -rwxrwxrwx 1 root root 1234844 Mar  2 15:07 machine_OK_7.wav\r\n",
      "1206 -rwxrwxrwx 1 root root 1234844 Mar  2 15:07 machine_OK_8.wav\r\n",
      "1206 -rwxrwxrwx 1 root root 1234844 Mar  2 15:07 machine_OK_9.wav\r\n"
     ]
    }
   ],
   "source": [
    "!ls soundssamples/OK/ -ls"
   ]
  },
  {
   "cell_type": "code",
   "execution_count": 12,
   "id": "27ef17d3",
   "metadata": {},
   "outputs": [
    {
     "name": "stdout",
     "output_type": "stream",
     "text": [
      "total 73011\r\n",
      "1206 -rwxrwxrwx 1 root root 1234844 Mar  2 15:07 machine_KO_1.wav\r\n",
      "1206 -rwxrwxrwx 1 root root 1234844 Mar  2 15:07 machine_KO_10.wav\r\n",
      "1206 -rwxrwxrwx 1 root root 1234844 Mar  2 15:07 machine_KO_11.wav\r\n",
      "1206 -rwxrwxrwx 1 root root 1234844 Mar  2 15:07 machine_KO_12.wav\r\n",
      "1206 -rwxrwxrwx 1 root root 1234844 Mar  2 15:07 machine_KO_13.wav\r\n",
      "1206 -rwxrwxrwx 1 root root 1234844 Mar  2 15:07 machine_KO_14.wav\r\n",
      "1206 -rwxrwxrwx 1 root root 1234844 Mar  2 15:07 machine_KO_15.wav\r\n",
      "1206 -rwxrwxrwx 1 root root 1234844 Mar  2 15:07 machine_KO_16.wav\r\n",
      "1206 -rwxrwxrwx 1 root root 1234844 Mar  2 15:07 machine_KO_17.wav\r\n",
      "1206 -rwxrwxrwx 1 root root 1234844 Mar  2 15:07 machine_KO_18.wav\r\n",
      "1206 -rwxrwxrwx 1 root root 1234844 Mar  2 15:07 machine_KO_19.wav\r\n",
      "1206 -rwxrwxrwx 1 root root 1234844 Mar  2 15:07 machine_KO_2.wav\r\n",
      "1206 -rwxrwxrwx 1 root root 1234844 Mar  2 15:07 machine_KO_20.wav\r\n",
      "1206 -rwxrwxrwx 1 root root 1234844 Mar  2 15:07 machine_KO_21.wav\r\n",
      "1206 -rwxrwxrwx 1 root root 1234844 Mar  2 15:07 machine_KO_22.wav\r\n",
      "1206 -rwxrwxrwx 1 root root 1234844 Mar  2 15:07 machine_KO_23.wav\r\n",
      "1206 -rwxrwxrwx 1 root root 1234844 Mar  2 15:07 machine_KO_24.wav\r\n",
      "1206 -rwxrwxrwx 1 root root 1234844 Mar  2 15:07 machine_KO_25.wav\r\n",
      "1206 -rwxrwxrwx 1 root root 1234844 Mar  2 15:07 machine_KO_26.wav\r\n",
      "1206 -rwxrwxrwx 1 root root 1234844 Mar  2 15:07 machine_KO_27.wav\r\n",
      "1206 -rwxrwxrwx 1 root root 1234844 Mar  2 15:08 machine_KO_28.wav\r\n",
      "1206 -rwxrwxrwx 1 root root 1234844 Mar  2 15:08 machine_KO_29.wav\r\n",
      "1206 -rwxrwxrwx 1 root root 1234844 Mar  2 15:07 machine_KO_3.wav\r\n",
      "1206 -rwxrwxrwx 1 root root 1234844 Mar  2 15:08 machine_KO_30.wav\r\n",
      "1206 -rwxrwxrwx 1 root root 1234844 Mar  2 15:08 machine_KO_31.wav\r\n",
      "1206 -rwxrwxrwx 1 root root 1234844 Mar  2 15:08 machine_KO_32.wav\r\n",
      "1206 -rwxrwxrwx 1 root root 1234844 Mar  2 15:08 machine_KO_33.wav\r\n",
      "1206 -rwxrwxrwx 1 root root 1234844 Mar  2 15:08 machine_KO_34.wav\r\n",
      "1206 -rwxrwxrwx 1 root root 1234844 Mar  2 15:08 machine_KO_35.wav\r\n",
      "1206 -rwxrwxrwx 1 root root 1234844 Mar  2 15:08 machine_KO_36.wav\r\n",
      "1206 -rwxrwxrwx 1 root root 1234844 Mar  2 15:08 machine_KO_37.wav\r\n",
      "1206 -rwxrwxrwx 1 root root 1234844 Mar  2 15:08 machine_KO_38.wav\r\n",
      "1206 -rwxrwxrwx 1 root root 1234844 Mar  2 15:08 machine_KO_39.wav\r\n",
      "1206 -rwxrwxrwx 1 root root 1234844 Mar  2 15:07 machine_KO_4.wav\r\n",
      "1206 -rwxrwxrwx 1 root root 1234844 Mar  2 15:08 machine_KO_40.wav\r\n",
      "1206 -rwxrwxrwx 1 root root 1234844 Mar  2 15:08 machine_KO_41.wav\r\n",
      "1206 -rwxrwxrwx 1 root root 1234844 Mar  2 15:08 machine_KO_42.wav\r\n",
      "1206 -rwxrwxrwx 1 root root 1234844 Mar  2 15:08 machine_KO_43.wav\r\n",
      "1206 -rwxrwxrwx 1 root root 1234844 Mar  2 15:08 machine_KO_44.wav\r\n",
      "1206 -rwxrwxrwx 1 root root 1234844 Mar  2 15:08 machine_KO_45.wav\r\n",
      "1206 -rwxrwxrwx 1 root root 1234844 Mar  2 15:08 machine_KO_46.wav\r\n",
      "1206 -rwxrwxrwx 1 root root 1234844 Mar  2 15:08 machine_KO_47.wav\r\n",
      "1206 -rwxrwxrwx 1 root root 1234844 Mar  2 15:08 machine_KO_48.wav\r\n",
      "1206 -rwxrwxrwx 1 root root 1234844 Mar  2 15:08 machine_KO_49.wav\r\n",
      "1206 -rwxrwxrwx 1 root root 1234844 Mar  2 15:07 machine_KO_5.wav\r\n",
      "1206 -rwxrwxrwx 1 root root 1234844 Mar  2 15:08 machine_KO_50.wav\r\n",
      "1206 -rwxrwxrwx 1 root root 1234844 Mar  2 15:08 machine_KO_51.wav\r\n",
      "1206 -rwxrwxrwx 1 root root 1234844 Mar  2 15:08 machine_KO_52.wav\r\n",
      "1206 -rwxrwxrwx 1 root root 1234844 Mar  2 15:08 machine_KO_53.wav\r\n",
      "1206 -rwxrwxrwx 1 root root 1234844 Mar  2 15:08 machine_KO_54.wav\r\n",
      "1206 -rwxrwxrwx 1 root root 1234844 Mar  2 15:08 machine_KO_55.wav\r\n",
      "1206 -rwxrwxrwx 1 root root 1234844 Mar  2 15:08 machine_KO_56.wav\r\n",
      "1206 -rwxrwxrwx 1 root root 1234844 Mar  2 15:08 machine_KO_57.wav\r\n",
      "1206 -rwxrwxrwx 1 root root 1234844 Mar  2 15:08 machine_KO_58.wav\r\n",
      "1206 -rwxrwxrwx 1 root root 1234844 Mar  2 15:08 machine_KO_59.wav\r\n",
      "1206 -rwxrwxrwx 1 root root 1234844 Mar  2 15:07 machine_KO_6.wav\r\n",
      "1206 -rwxrwxrwx 1 root root 1234844 Mar  2 15:08 machine_KO_60.wav\r\n",
      " 651 -rwxrwxrwx 1 root root  665776 Mar  2 15:08 machine_KO_61.wav\r\n",
      "1206 -rwxrwxrwx 1 root root 1234844 Mar  2 15:07 machine_KO_7.wav\r\n",
      "1206 -rwxrwxrwx 1 root root 1234844 Mar  2 15:07 machine_KO_8.wav\r\n",
      "1206 -rwxrwxrwx 1 root root 1234844 Mar  2 15:07 machine_KO_9.wav\r\n"
     ]
    }
   ],
   "source": [
    "!ls soundssamples/KO/ -ls"
   ]
  },
  {
   "cell_type": "markdown",
   "id": "0f1e0265",
   "metadata": {},
   "source": [
    "> End. You can go to the next notebook"
   ]
  },
  {
   "cell_type": "code",
   "execution_count": null,
   "id": "288445ee",
   "metadata": {},
   "outputs": [],
   "source": []
  }
 ],
 "metadata": {
  "kernelspec": {
   "display_name": "Python 3.6 - AzureML",
   "language": "python",
   "name": "python3-azureml"
  },
  "language_info": {
   "codemirror_mode": {
    "name": "ipython",
    "version": 3
   },
   "file_extension": ".py",
   "mimetype": "text/x-python",
   "name": "python",
   "nbconvert_exporter": "python",
   "pygments_lexer": "ipython3",
   "version": "3.6.9"
  }
 },
 "nbformat": 4,
 "nbformat_minor": 5
}
