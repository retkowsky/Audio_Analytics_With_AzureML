{
 "cells": [
  {
   "cell_type": "markdown",
   "metadata": {},
   "source": [
    "# Anomaly Sound Detection\n",
    "\n",
    "## 4. Spectograms creation\n",
    "\n",
    "<img src='soundanomaly.jpg' width = 600>\n",
    "\n",
    "<div class=\"alert alert-info\"> <b> In this notebook We will generate spectograms for all the files</b></div>\n",
    "\n",
    "Serge Retkowsky | serge.retkowsky@microsoft.com | 02-Mar-2022 | V1"
   ]
  },
  {
   "cell_type": "code",
   "execution_count": 1,
   "metadata": {},
   "outputs": [],
   "source": [
    "#!pip install basic_image_eda"
   ]
  },
  {
   "cell_type": "code",
   "execution_count": 2,
   "metadata": {},
   "outputs": [],
   "source": [
    "import matplotlib.pyplot as plt\n",
    "%matplotlib inline\n",
    "\n",
    "import librosa, librosa.display, IPython.display as ipd\n",
    "import numpy as np\n",
    "import wave\n",
    "from scipy.io import wavfile as wav\n",
    "import os\n",
    "import os.path, time\n",
    "import seaborn\n",
    "import glob\n",
    "from datetime import datetime\n",
    "import shutil\n",
    "from pathlib import Path\n",
    "import urllib.request\n",
    "from zipfile import ZipFile"
   ]
  },
  {
   "cell_type": "code",
   "execution_count": 3,
   "metadata": {},
   "outputs": [
    {
     "data": {
      "text/plain": [
       "'3.6.9 |Anaconda, Inc.| (default, Jul 30 2019, 19:07:31) \\n[GCC 7.3.0]'"
      ]
     },
     "execution_count": 3,
     "metadata": {},
     "output_type": "execute_result"
    }
   ],
   "source": [
    "import sys\n",
    "sys.version"
   ]
  },
  {
   "cell_type": "code",
   "execution_count": 4,
   "metadata": {},
   "outputs": [
    {
     "name": "stdout",
     "output_type": "stream",
     "text": [
      "Current Date: 2022-03-02 15:14:24.134902\n"
     ]
    }
   ],
   "source": [
    "import datetime\n",
    "Current_Date = datetime.datetime.today()\n",
    "print ('Current Date: ' + str(Current_Date))"
   ]
  },
  {
   "cell_type": "code",
   "execution_count": 5,
   "metadata": {},
   "outputs": [],
   "source": [
    "def createdir(mydir):\n",
    "    path = Path(mydir)\n",
    "    if path.is_dir():\n",
    "        print(\"Directory\", mydir, 'exists so we will use it.')\n",
    "    else:\n",
    "        os.mkdir(mydir)"
   ]
  },
  {
   "cell_type": "markdown",
   "metadata": {},
   "source": [
    "## Generating all the spectograms"
   ]
  },
  {
   "cell_type": "code",
   "execution_count": 6,
   "metadata": {},
   "outputs": [],
   "source": [
    "durationsecs = 10\n",
    "hoplength = 512\n",
    "samprate = 44100\n",
    "nfft = 2048"
   ]
  },
  {
   "cell_type": "code",
   "execution_count": 7,
   "metadata": {},
   "outputs": [],
   "source": [
    "def spectogram_batch(wavdir, resultdir):\n",
    "    createdir(resultdir)\n",
    "    for root, _, files in os.walk(wavdir):\n",
    "        print(\"Directory\", root, \"has\", len(files), \"files.\")\n",
    "    from datetime import datetime\n",
    "    start_time = datetime.now()\n",
    "    print(\"Creating the spectograms for all the wav files from\", wavdir)\n",
    "    print(\"\\nRunning...\\n\")\n",
    "    \n",
    "    wavfiles = [file for file in os.listdir(wavdir) if file.endswith(('wav'))]\n",
    "    \n",
    "    for wavfile in wavfiles:\n",
    "        \n",
    "        plt.figure(figsize=(15, 7))\n",
    "        wavfile = wavdir + wavfile\n",
    "        print(wavfile)\n",
    "        y, sr = librosa.load(wavfile,  sr = None, mono = True, offset = 0.0, duration = durationsecs)\n",
    "        plt.ioff()\n",
    "        fig = plt.figure()\n",
    "        \n",
    "        mel_signal = librosa.feature.melspectrogram(y=y, sr=sr, hop_length=hoplength, n_fft=nfft)\n",
    "        spectrogram = np.abs(mel_signal)\n",
    "        power_to_db = librosa.power_to_db(spectrogram, ref=np.max)\n",
    "        librosa.display.specshow(power_to_db, sr=sr, x_axis='time', y_axis='mel', cmap='magma', hop_length=hoplength)\n",
    "\n",
    "        plt.axis('off')\n",
    "        outputfilename = wavfile.split('.')\n",
    "        outputfilename = outputfilename[0].split('/')\n",
    "        \n",
    "        savefilename = resultdir + '/' + str(outputfilename[2]) + '.jpg'\n",
    "        plt.savefig(savefilename, dpi = 300)\n",
    "        plt.close('all')\n",
    "    \n",
    "    print('\\nDone.')\n",
    "    end_time = datetime.now()\n",
    "    print(\"Execution time:\", (end_time-start_time))"
   ]
  },
  {
   "cell_type": "code",
   "execution_count": 8,
   "metadata": {},
   "outputs": [],
   "source": [
    "createdir(\"spectogramsmachine\")"
   ]
  },
  {
   "cell_type": "code",
   "execution_count": 9,
   "metadata": {},
   "outputs": [],
   "source": [
    "createdir(\"spectogramsmachine/OK\")"
   ]
  },
  {
   "cell_type": "code",
   "execution_count": 10,
   "metadata": {},
   "outputs": [],
   "source": [
    "createdir(\"spectogramsmachine/KO\")"
   ]
  },
  {
   "cell_type": "markdown",
   "metadata": {},
   "source": [
    "## Running the spectograms"
   ]
  },
  {
   "cell_type": "code",
   "execution_count": 11,
   "metadata": {},
   "outputs": [
    {
     "name": "stdout",
     "output_type": "stream",
     "text": [
      "Directory spectogramsmachine/KO/ exists so we will use it.\n",
      "Directory soundssamples/KO/ has 61 files.\n",
      "Creating the spectograms for all the wav files from soundssamples/KO/\n",
      "\n",
      "Running...\n",
      "\n",
      "soundssamples/KO/machine_KO_1.wav\n",
      "soundssamples/KO/machine_KO_10.wav\n",
      "soundssamples/KO/machine_KO_11.wav\n",
      "soundssamples/KO/machine_KO_12.wav\n",
      "soundssamples/KO/machine_KO_13.wav\n",
      "soundssamples/KO/machine_KO_14.wav\n",
      "soundssamples/KO/machine_KO_15.wav\n",
      "soundssamples/KO/machine_KO_16.wav\n",
      "soundssamples/KO/machine_KO_17.wav\n",
      "soundssamples/KO/machine_KO_18.wav\n",
      "soundssamples/KO/machine_KO_19.wav\n",
      "soundssamples/KO/machine_KO_2.wav\n",
      "soundssamples/KO/machine_KO_20.wav\n",
      "soundssamples/KO/machine_KO_21.wav\n",
      "soundssamples/KO/machine_KO_22.wav\n",
      "soundssamples/KO/machine_KO_23.wav\n",
      "soundssamples/KO/machine_KO_24.wav\n",
      "soundssamples/KO/machine_KO_25.wav\n",
      "soundssamples/KO/machine_KO_26.wav\n",
      "soundssamples/KO/machine_KO_27.wav\n",
      "soundssamples/KO/machine_KO_28.wav\n",
      "soundssamples/KO/machine_KO_29.wav\n",
      "soundssamples/KO/machine_KO_3.wav\n",
      "soundssamples/KO/machine_KO_30.wav\n",
      "soundssamples/KO/machine_KO_31.wav\n",
      "soundssamples/KO/machine_KO_32.wav\n",
      "soundssamples/KO/machine_KO_33.wav\n",
      "soundssamples/KO/machine_KO_34.wav\n",
      "soundssamples/KO/machine_KO_35.wav\n",
      "soundssamples/KO/machine_KO_36.wav\n",
      "soundssamples/KO/machine_KO_37.wav\n",
      "soundssamples/KO/machine_KO_38.wav\n",
      "soundssamples/KO/machine_KO_39.wav\n",
      "soundssamples/KO/machine_KO_4.wav\n",
      "soundssamples/KO/machine_KO_40.wav\n",
      "soundssamples/KO/machine_KO_41.wav\n",
      "soundssamples/KO/machine_KO_42.wav\n",
      "soundssamples/KO/machine_KO_43.wav\n",
      "soundssamples/KO/machine_KO_44.wav\n",
      "soundssamples/KO/machine_KO_45.wav\n",
      "soundssamples/KO/machine_KO_46.wav\n",
      "soundssamples/KO/machine_KO_47.wav\n",
      "soundssamples/KO/machine_KO_48.wav\n",
      "soundssamples/KO/machine_KO_49.wav\n",
      "soundssamples/KO/machine_KO_5.wav\n",
      "soundssamples/KO/machine_KO_50.wav\n",
      "soundssamples/KO/machine_KO_51.wav\n",
      "soundssamples/KO/machine_KO_52.wav\n",
      "soundssamples/KO/machine_KO_53.wav\n",
      "soundssamples/KO/machine_KO_54.wav\n",
      "soundssamples/KO/machine_KO_55.wav\n",
      "soundssamples/KO/machine_KO_56.wav\n",
      "soundssamples/KO/machine_KO_57.wav\n",
      "soundssamples/KO/machine_KO_58.wav\n",
      "soundssamples/KO/machine_KO_59.wav\n",
      "soundssamples/KO/machine_KO_6.wav\n",
      "soundssamples/KO/machine_KO_60.wav\n",
      "soundssamples/KO/machine_KO_61.wav\n",
      "soundssamples/KO/machine_KO_7.wav\n",
      "soundssamples/KO/machine_KO_8.wav\n",
      "soundssamples/KO/machine_KO_9.wav\n",
      "\n",
      "Done.\n",
      "Execution time: 0:00:48.197303\n"
     ]
    }
   ],
   "source": [
    "spectogram_batch(\"soundssamples/KO/\", \"spectogramsmachine/KO/\")"
   ]
  },
  {
   "cell_type": "code",
   "execution_count": 12,
   "metadata": {},
   "outputs": [
    {
     "name": "stdout",
     "output_type": "stream",
     "text": [
      "Directory spectogramsmachine/OK/ exists so we will use it.\n",
      "Directory soundssamples/OK/ has 61 files.\n",
      "Creating the spectograms for all the wav files from soundssamples/OK/\n",
      "\n",
      "Running...\n",
      "\n",
      "soundssamples/OK/machine_OK_1.wav\n",
      "soundssamples/OK/machine_OK_10.wav\n",
      "soundssamples/OK/machine_OK_11.wav\n",
      "soundssamples/OK/machine_OK_12.wav\n",
      "soundssamples/OK/machine_OK_13.wav\n",
      "soundssamples/OK/machine_OK_14.wav\n",
      "soundssamples/OK/machine_OK_15.wav\n",
      "soundssamples/OK/machine_OK_16.wav\n",
      "soundssamples/OK/machine_OK_17.wav\n",
      "soundssamples/OK/machine_OK_18.wav\n",
      "soundssamples/OK/machine_OK_19.wav\n",
      "soundssamples/OK/machine_OK_2.wav\n",
      "soundssamples/OK/machine_OK_20.wav\n",
      "soundssamples/OK/machine_OK_21.wav\n",
      "soundssamples/OK/machine_OK_22.wav\n",
      "soundssamples/OK/machine_OK_23.wav\n",
      "soundssamples/OK/machine_OK_24.wav\n",
      "soundssamples/OK/machine_OK_25.wav\n",
      "soundssamples/OK/machine_OK_26.wav\n",
      "soundssamples/OK/machine_OK_27.wav\n",
      "soundssamples/OK/machine_OK_28.wav\n",
      "soundssamples/OK/machine_OK_29.wav\n",
      "soundssamples/OK/machine_OK_3.wav\n",
      "soundssamples/OK/machine_OK_30.wav\n",
      "soundssamples/OK/machine_OK_31.wav\n",
      "soundssamples/OK/machine_OK_32.wav\n",
      "soundssamples/OK/machine_OK_33.wav\n",
      "soundssamples/OK/machine_OK_34.wav\n",
      "soundssamples/OK/machine_OK_35.wav\n",
      "soundssamples/OK/machine_OK_36.wav\n",
      "soundssamples/OK/machine_OK_37.wav\n",
      "soundssamples/OK/machine_OK_38.wav\n",
      "soundssamples/OK/machine_OK_39.wav\n",
      "soundssamples/OK/machine_OK_4.wav\n",
      "soundssamples/OK/machine_OK_40.wav\n",
      "soundssamples/OK/machine_OK_41.wav\n",
      "soundssamples/OK/machine_OK_42.wav\n",
      "soundssamples/OK/machine_OK_43.wav\n",
      "soundssamples/OK/machine_OK_44.wav\n",
      "soundssamples/OK/machine_OK_45.wav\n",
      "soundssamples/OK/machine_OK_46.wav\n",
      "soundssamples/OK/machine_OK_47.wav\n",
      "soundssamples/OK/machine_OK_48.wav\n",
      "soundssamples/OK/machine_OK_49.wav\n",
      "soundssamples/OK/machine_OK_5.wav\n",
      "soundssamples/OK/machine_OK_50.wav\n",
      "soundssamples/OK/machine_OK_51.wav\n",
      "soundssamples/OK/machine_OK_52.wav\n",
      "soundssamples/OK/machine_OK_53.wav\n",
      "soundssamples/OK/machine_OK_54.wav\n",
      "soundssamples/OK/machine_OK_55.wav\n",
      "soundssamples/OK/machine_OK_56.wav\n",
      "soundssamples/OK/machine_OK_57.wav\n",
      "soundssamples/OK/machine_OK_58.wav\n",
      "soundssamples/OK/machine_OK_59.wav\n",
      "soundssamples/OK/machine_OK_6.wav\n",
      "soundssamples/OK/machine_OK_60.wav\n",
      "soundssamples/OK/machine_OK_61.wav\n",
      "soundssamples/OK/machine_OK_7.wav\n",
      "soundssamples/OK/machine_OK_8.wav\n",
      "soundssamples/OK/machine_OK_9.wav\n",
      "\n",
      "Done.\n",
      "Execution time: 0:00:43.493493\n"
     ]
    }
   ],
   "source": [
    "spectogram_batch(\"soundssamples/OK/\", \"spectogramsmachine/OK/\")"
   ]
  },
  {
   "cell_type": "markdown",
   "metadata": {},
   "source": [
    "## Checking the number of generated files"
   ]
  },
  {
   "cell_type": "code",
   "execution_count": 13,
   "metadata": {},
   "outputs": [
    {
     "name": "stdout",
     "output_type": "stream",
     "text": [
      "Directory spectogramsmachine/OK/ has 61 spectogram jpg files.\n"
     ]
    }
   ],
   "source": [
    "for root, _, files in os.walk('spectogramsmachine/OK/'):\n",
    "    print(\"Directory\", root, \"has\", len(files), \"spectogram jpg files.\")"
   ]
  },
  {
   "cell_type": "code",
   "execution_count": 14,
   "metadata": {},
   "outputs": [
    {
     "name": "stdout",
     "output_type": "stream",
     "text": [
      "Directory spectogramsmachine/KO/ has 61 spectogram jpg files.\n"
     ]
    }
   ],
   "source": [
    "for root, _, files in os.walk('spectogramsmachine/KO/'):\n",
    "    print(\"Directory\", root, \"has\", len(files), \"spectogram jpg files.\")"
   ]
  },
  {
   "cell_type": "markdown",
   "metadata": {},
   "source": [
    "## EDA On the images to check the shape of each spectograms"
   ]
  },
  {
   "cell_type": "code",
   "execution_count": 15,
   "metadata": {},
   "outputs": [],
   "source": [
    "def imageEDA(data_dir, option):\n",
    "    from basic_image_eda import BasicImageEDA\n",
    "    \n",
    "    if option == 'basic':\n",
    "        BasicImageEDA.explore(data_dir) # Use this for basic Image EDA    \n",
    "    \n",
    "    if option == 'advanced':\n",
    "        extensions = ['jpg']\n",
    "        threads = 0\n",
    "        dimension_plot = True\n",
    "        channel_hist = True\n",
    "        nonzero = False\n",
    "        hw_division_factor = 1.0\n",
    "        BasicImageEDA.explore(data_dir, extensions, threads, dimension_plot, channel_hist, nonzero, hw_division_factor)"
   ]
  },
  {
   "cell_type": "code",
   "execution_count": 16,
   "metadata": {},
   "outputs": [
    {
     "name": "stdout",
     "output_type": "stream",
     "text": [
      "\n",
      "found 61 images.\n",
      "Using 4 threads. (max:4)\n",
      "\n"
     ]
    },
    {
     "name": "stderr",
     "output_type": "stream",
     "text": [
      "100%|██████████| 61/61 [00:02<00:00, 21.27it/s]"
     ]
    },
    {
     "name": "stdout",
     "output_type": "stream",
     "text": [
      "\n",
      "*--------------------------------------------------------------------------------------*\n",
      "number of images                         |  61\n",
      "\n",
      "dtype                                    |  uint8\n",
      "channels                                 |  [3]\n",
      "extensions                               |  ['jpg']\n",
      "\n",
      "min height                               |  1200\n",
      "max height                               |  1200\n",
      "mean height                              |  1200.0\n",
      "median height                            |  1200\n",
      "\n",
      "min width                                |  1800\n",
      "max width                                |  1800\n",
      "mean width                               |  1800.0\n",
      "median width                             |  1800\n",
      "\n",
      "mean height/width ratio                  |  0.6666666666666666\n",
      "median height/width ratio                |  0.6666666666666666\n",
      "recommended input size(by mean)          |  [1200 1800] (h x w, multiples of 8)\n",
      "recommended input size(by mean)          |  [1200 1792] (h x w, multiples of 16)\n",
      "recommended input size(by mean)          |  [1216 1792] (h x w, multiples of 32)\n",
      "\n",
      "channel mean(0~1)                        |  [0.85777986 0.59702474 0.6536928 ]\n",
      "channel std(0~1)                         |  [0.2353389 0.3662991 0.3032972]\n",
      "*--------------------------------------------------------------------------------------*\n",
      "eda ended in 00 hours 00 minutes 03 seconds\n"
     ]
    },
    {
     "name": "stderr",
     "output_type": "stream",
     "text": [
      "\n"
     ]
    }
   ],
   "source": [
    "imageEDA(\"./spectogramsmachine/OK\",  \"basic\")"
   ]
  },
  {
   "cell_type": "code",
   "execution_count": 17,
   "metadata": {},
   "outputs": [
    {
     "name": "stdout",
     "output_type": "stream",
     "text": [
      "\n",
      "found 61 images.\n",
      "Using 4 threads. (max:4)\n",
      "\n"
     ]
    },
    {
     "name": "stderr",
     "output_type": "stream",
     "text": [
      "100%|██████████| 61/61 [00:02<00:00, 20.63it/s]"
     ]
    },
    {
     "name": "stdout",
     "output_type": "stream",
     "text": [
      "\n",
      "*--------------------------------------------------------------------------------------*\n",
      "number of images                         |  61\n",
      "\n",
      "dtype                                    |  uint8\n",
      "channels                                 |  [3]\n",
      "extensions                               |  ['jpg']\n",
      "\n",
      "min height                               |  1200\n",
      "max height                               |  1200\n",
      "mean height                              |  1200.0\n",
      "median height                            |  1200\n",
      "\n",
      "min width                                |  1800\n",
      "max width                                |  1800\n",
      "mean width                               |  1800.0\n",
      "median width                             |  1800\n",
      "\n",
      "mean height/width ratio                  |  0.6666666666666666\n",
      "median height/width ratio                |  0.6666666666666666\n",
      "recommended input size(by mean)          |  [1200 1800] (h x w, multiples of 8)\n",
      "recommended input size(by mean)          |  [1200 1792] (h x w, multiples of 16)\n",
      "recommended input size(by mean)          |  [1216 1792] (h x w, multiples of 32)\n",
      "\n",
      "channel mean(0~1)                        |  [0.84346956 0.5841868  0.65544415]\n",
      "channel std(0~1)                         |  [0.24360378 0.37378827 0.30204034]\n",
      "*--------------------------------------------------------------------------------------*\n",
      "eda ended in 00 hours 00 minutes 03 seconds\n"
     ]
    },
    {
     "name": "stderr",
     "output_type": "stream",
     "text": [
      "\n"
     ]
    }
   ],
   "source": [
    "imageEDA(\"./spectogramsmachine/KO\", \"basic\")"
   ]
  },
  {
   "cell_type": "code",
   "execution_count": 18,
   "metadata": {},
   "outputs": [
    {
     "data": {
      "image/png": "[encoded data removed]",
      "text/plain": [
       "<Figure size 1080x504 with 1 Axes>"
      ]
     },
     "metadata": {
      "needs_background": "light"
     },
     "output_type": "display_data"
    }
   ],
   "source": [
    "number_classes = {'OK': len(os.listdir('spectogramsmachine/OK')),\n",
    "                'KO': len(os.listdir('spectogramsmachine/KO')) }\n",
    "\n",
    "plt.figure(figsize=(15, 7))\n",
    "plt.bar(number_classes.keys(), number_classes.values(), width = .5);\n",
    "plt.title(\"Number of MEL spectograms by Class\");\n",
    "plt.xlabel('Class');\n",
    "plt.ylabel('Number of Spectograms');"
   ]
  },
  {
   "cell_type": "markdown",
   "metadata": {},
   "source": [
    "## Zipping the files"
   ]
  },
  {
   "cell_type": "code",
   "execution_count": 19,
   "metadata": {},
   "outputs": [],
   "source": [
    "createdir(\"zip\")"
   ]
  },
  {
   "cell_type": "code",
   "execution_count": 20,
   "metadata": {},
   "outputs": [
    {
     "data": {
      "text/plain": [
       "'/mnt/batch/tasks/shared/LS_root/mounts/clusters/seretkow9/code/Users/seretkow/Sound/MachineSoundAnomaly/zip/spectograms.zip'"
      ]
     },
     "execution_count": 20,
     "metadata": {},
     "output_type": "execute_result"
    }
   ],
   "source": [
    "shutil.make_archive(\"zip/spectograms\", 'zip', \"spectogramsmachine/\")"
   ]
  },
  {
   "cell_type": "code",
   "execution_count": 21,
   "metadata": {},
   "outputs": [
    {
     "name": "stdout",
     "output_type": "stream",
     "text": [
      "52455 -rwxrwxrwx 1 root root 53712976 Mar  2 15:16 zip/spectograms.zip\r\n"
     ]
    }
   ],
   "source": [
    "!ls zip/spectograms.zip -ls"
   ]
  },
  {
   "cell_type": "code",
   "execution_count": 22,
   "metadata": {},
   "outputs": [
    {
     "name": "stdout",
     "output_type": "stream",
     "text": [
      "Click to download the file:\n"
     ]
    },
    {
     "data": {
      "text/html": [
       "<a href='zip/spectograms.zip' target='_blank'>zip/spectograms.zip</a><br>"
      ],
      "text/plain": [
       "/mnt/batch/tasks/shared/LS_root/mounts/clusters/seretkow9/code/Users/seretkow/Sound/MachineSoundAnomaly/zip/spectograms.zip"
      ]
     },
     "execution_count": 22,
     "metadata": {},
     "output_type": "execute_result"
    }
   ],
   "source": [
    "from IPython.display import FileLink\n",
    "LINK = FileLink(path='zip/spectograms.zip')\n",
    "print(\"Click to download the file:\")\n",
    "LINK"
   ]
  },
  {
   "cell_type": "markdown",
   "metadata": {},
   "source": [
    "Now you can use Azure Custom Vision to create an image classification model"
   ]
  },
  {
   "cell_type": "markdown",
   "metadata": {},
   "source": [
    "> End. You can go to the next notebook"
   ]
  },
  {
   "cell_type": "code",
   "execution_count": null,
   "metadata": {},
   "outputs": [],
   "source": []
  }
 ],
 "metadata": {
  "kernel_info": {
   "name": "python3-azureml"
  },
  "kernelspec": {
   "display_name": "Python 3.6 - AzureML",
   "language": "python",
   "name": "python3-azureml"
  },
  "language_info": {
   "codemirror_mode": {
    "name": "ipython",
    "version": 3
   },
   "file_extension": ".py",
   "mimetype": "text/x-python",
   "name": "python",
   "nbconvert_exporter": "python",
   "pygments_lexer": "ipython3",
   "version": "3.6.9"
  },
  "nteract": {
   "version": "nteract-front-end@1.0.0"
  }
 },
 "nbformat": 4,
 "nbformat_minor": 1
}
