{
 "cells": [
  {
   "cell_type": "markdown",
   "metadata": {},
   "source": [
    "# Acoustic Anomaly Detection based on Images with Azure AutoML for Images\n",
    "## 04. Spectograms creation\n",
    "\n",
    "<img src='https://github.com/retkowsky/CustomVision_Datasets/blob/master/anomaly.png?raw=true' width = 600>\n",
    "\n",
    "<div class=\"alert alert-info\"> <b> In this notebook We will generate spectograms for all the files</b></div>\n",
    "\n",
    "Serge Retkowsky | serge.retkowsky@microsoft.com | 25-Oct-2022 | V3"
   ]
  },
  {
   "cell_type": "code",
   "execution_count": 1,
   "metadata": {},
   "outputs": [],
   "source": [
    "#pip install basic_image_eda"
   ]
  },
  {
   "cell_type": "code",
   "execution_count": 2,
   "metadata": {},
   "outputs": [],
   "source": [
    "#!pip install --upgrade pillow"
   ]
  },
  {
   "cell_type": "code",
   "execution_count": 3,
   "metadata": {},
   "outputs": [],
   "source": [
    "import matplotlib.pyplot as plt\n",
    "import urllib.request\n",
    "import librosa, librosa.display, IPython.display as ipd\n",
    "import numpy as np\n",
    "import wave\n",
    "import os\n",
    "import os.path, time\n",
    "import seaborn\n",
    "import glob\n",
    "import shutil\n",
    "import sys\n",
    "\n",
    "from scipy.io import wavfile as wav\n",
    "from pathlib import Path\n",
    "from datetime import datetime\n",
    "from zipfile import ZipFile\n",
    "\n",
    "%matplotlib inline"
   ]
  },
  {
   "cell_type": "code",
   "execution_count": 4,
   "metadata": {},
   "outputs": [
    {
     "data": {
      "text/plain": [
       "'3.8.5 (default, Sep  4 2020, 07:30:14) \\n[GCC 7.3.0]'"
      ]
     },
     "execution_count": 4,
     "metadata": {},
     "output_type": "execute_result"
    }
   ],
   "source": [
    "sys.version"
   ]
  },
  {
   "cell_type": "code",
   "execution_count": 5,
   "metadata": {},
   "outputs": [
    {
     "name": "stdout",
     "output_type": "stream",
     "text": [
      "2022-10-25 13:05:15\n"
     ]
    }
   ],
   "source": [
    "import datetime\n",
    "\n",
    "print(datetime.datetime.now().strftime(\"%Y-%m-%d %H:%M:%S\"))"
   ]
  },
  {
   "cell_type": "code",
   "execution_count": 6,
   "metadata": {},
   "outputs": [],
   "source": [
    "def create_dir(mydir):\n",
    "    \"\"\"\n",
    "    Creating a directory if needed\n",
    "    \"\"\"\n",
    "    path = Path(mydir)\n",
    "    if path.is_dir():\n",
    "        print(\"Directory\", mydir, 'exists so we will use it.')\n",
    "\n",
    "    else:\n",
    "        os.mkdir(mydir)"
   ]
  },
  {
   "cell_type": "markdown",
   "metadata": {},
   "source": [
    "## Generating all the spectograms"
   ]
  },
  {
   "cell_type": "code",
   "execution_count": 7,
   "metadata": {},
   "outputs": [],
   "source": [
    "durationsecs = 10\n",
    "hoplength = 512\n",
    "samprate = 44100\n",
    "nfft = 2048"
   ]
  },
  {
   "cell_type": "code",
   "execution_count": 13,
   "metadata": {},
   "outputs": [],
   "source": [
    "def spectogram_batch(wavdir, resultdir):\n",
    "    \"\"\"\n",
    "    Spectogram generation\n",
    "    \"\"\"\n",
    "    create_dir(resultdir)\n",
    "\n",
    "    for root, _, files in os.walk(wavdir):\n",
    "        print(\"Directory\", root, \"has\", len(files), \"files.\")\n",
    "\n",
    "    from datetime import datetime\n",
    "    start_time = datetime.now()\n",
    "    print(\"Creating the spectograms for all the wav files from\", wavdir)\n",
    "    print(\"\\nRunning...\\n\")\n",
    "\n",
    "    wavfiles = [file for file in os.listdir(wavdir) if file.endswith(('wav'))]\n",
    "\n",
    "    for wavfile in wavfiles:\n",
    "\n",
    "        plt.figure(figsize=(15, 7))\n",
    "        wavfile = wavdir + wavfile\n",
    "        print(wavfile)\n",
    "\n",
    "        y, sr = librosa.load(wavfile,\n",
    "                             sr=None,\n",
    "                             mono=True,\n",
    "                             offset=0.0,\n",
    "                             duration=durationsecs)\n",
    "        plt.ioff()\n",
    "        fig = plt.figure()\n",
    "\n",
    "        mel_signal = librosa.feature.melspectrogram(y=y,\n",
    "                                                    sr=sr,\n",
    "                                                    hop_length=hoplength,\n",
    "                                                    n_fft=nfft)\n",
    "        spectrogram = np.abs(mel_signal)\n",
    "        power_to_db = librosa.power_to_db(spectrogram, ref=np.max)\n",
    "        librosa.display.specshow(power_to_db,\n",
    "                                 sr=sr,\n",
    "                                 x_axis='time',\n",
    "                                 y_axis='mel',\n",
    "                                 cmap='magma',\n",
    "                                 hop_length=hoplength)\n",
    "\n",
    "        plt.axis('off')\n",
    "        outputfilename = wavfile.split('.')\n",
    "        outputfilename = outputfilename[0].split('/')\n",
    "\n",
    "        savefilename = resultdir + '/' + str(outputfilename[2]) + '.jpg'\n",
    "        plt.savefig(savefilename, dpi=300)\n",
    "        plt.close('all')\n",
    "\n",
    "    print('\\nDone.')\n",
    "    end_time = datetime.now()\n",
    "    print(\"Execution time:\", (end_time - start_time))"
   ]
  },
  {
   "cell_type": "code",
   "execution_count": 9,
   "metadata": {},
   "outputs": [],
   "source": [
    "create_dir(\"spectograms\")"
   ]
  },
  {
   "cell_type": "code",
   "execution_count": 10,
   "metadata": {},
   "outputs": [],
   "source": [
    "create_dir(\"spectograms/OK\")"
   ]
  },
  {
   "cell_type": "code",
   "execution_count": 11,
   "metadata": {},
   "outputs": [],
   "source": [
    "create_dir(\"spectograms/KO\")"
   ]
  },
  {
   "cell_type": "markdown",
   "metadata": {},
   "source": [
    "## Running the spectograms"
   ]
  },
  {
   "cell_type": "code",
   "execution_count": 14,
   "metadata": {},
   "outputs": [
    {
     "name": "stdout",
     "output_type": "stream",
     "text": [
      "Directory spectograms/KO/ exists so we will use it.\n",
      "Directory audio_samples/KO/ has 61 files.\n",
      "Creating the spectograms for all the wav files from audio_samples/KO/\n",
      "\n",
      "Running...\n",
      "\n",
      "audio_samples/KO/machine_KO_1.wav\n",
      "audio_samples/KO/machine_KO_10.wav\n",
      "audio_samples/KO/machine_KO_11.wav\n",
      "audio_samples/KO/machine_KO_12.wav\n",
      "audio_samples/KO/machine_KO_13.wav\n",
      "audio_samples/KO/machine_KO_14.wav\n",
      "audio_samples/KO/machine_KO_15.wav\n",
      "audio_samples/KO/machine_KO_16.wav\n",
      "audio_samples/KO/machine_KO_17.wav\n",
      "audio_samples/KO/machine_KO_18.wav\n",
      "audio_samples/KO/machine_KO_19.wav\n",
      "audio_samples/KO/machine_KO_2.wav\n",
      "audio_samples/KO/machine_KO_20.wav\n",
      "audio_samples/KO/machine_KO_21.wav\n",
      "audio_samples/KO/machine_KO_22.wav\n",
      "audio_samples/KO/machine_KO_23.wav\n",
      "audio_samples/KO/machine_KO_24.wav\n",
      "audio_samples/KO/machine_KO_25.wav\n",
      "audio_samples/KO/machine_KO_26.wav\n",
      "audio_samples/KO/machine_KO_27.wav\n",
      "audio_samples/KO/machine_KO_28.wav\n",
      "audio_samples/KO/machine_KO_29.wav\n",
      "audio_samples/KO/machine_KO_3.wav\n",
      "audio_samples/KO/machine_KO_30.wav\n",
      "audio_samples/KO/machine_KO_31.wav\n",
      "audio_samples/KO/machine_KO_32.wav\n",
      "audio_samples/KO/machine_KO_33.wav\n",
      "audio_samples/KO/machine_KO_34.wav\n",
      "audio_samples/KO/machine_KO_35.wav\n",
      "audio_samples/KO/machine_KO_36.wav\n",
      "audio_samples/KO/machine_KO_37.wav\n",
      "audio_samples/KO/machine_KO_38.wav\n",
      "audio_samples/KO/machine_KO_39.wav\n",
      "audio_samples/KO/machine_KO_4.wav\n",
      "audio_samples/KO/machine_KO_40.wav\n",
      "audio_samples/KO/machine_KO_41.wav\n",
      "audio_samples/KO/machine_KO_42.wav\n",
      "audio_samples/KO/machine_KO_43.wav\n",
      "audio_samples/KO/machine_KO_44.wav\n",
      "audio_samples/KO/machine_KO_45.wav\n",
      "audio_samples/KO/machine_KO_46.wav\n",
      "audio_samples/KO/machine_KO_47.wav\n",
      "audio_samples/KO/machine_KO_48.wav\n",
      "audio_samples/KO/machine_KO_49.wav\n",
      "audio_samples/KO/machine_KO_5.wav\n",
      "audio_samples/KO/machine_KO_50.wav\n",
      "audio_samples/KO/machine_KO_51.wav\n",
      "audio_samples/KO/machine_KO_52.wav\n",
      "audio_samples/KO/machine_KO_53.wav\n",
      "audio_samples/KO/machine_KO_54.wav\n",
      "audio_samples/KO/machine_KO_55.wav\n",
      "audio_samples/KO/machine_KO_56.wav\n",
      "audio_samples/KO/machine_KO_57.wav\n",
      "audio_samples/KO/machine_KO_58.wav\n",
      "audio_samples/KO/machine_KO_59.wav\n",
      "audio_samples/KO/machine_KO_6.wav\n",
      "audio_samples/KO/machine_KO_60.wav\n",
      "audio_samples/KO/machine_KO_61.wav\n",
      "audio_samples/KO/machine_KO_7.wav\n",
      "audio_samples/KO/machine_KO_8.wav\n",
      "audio_samples/KO/machine_KO_9.wav\n",
      "\n",
      "Done.\n",
      "Execution time: 0:00:30.591706\n"
     ]
    }
   ],
   "source": [
    "spectogram_batch(\"audio_samples/KO/\", \"spectograms/KO/\")"
   ]
  },
  {
   "cell_type": "code",
   "execution_count": 15,
   "metadata": {},
   "outputs": [
    {
     "name": "stdout",
     "output_type": "stream",
     "text": [
      "Directory spectograms/OK/ exists so we will use it.\n",
      "Directory audio_samples/OK/ has 61 files.\n",
      "Creating the spectograms for all the wav files from audio_samples/OK/\n",
      "\n",
      "Running...\n",
      "\n",
      "audio_samples/OK/machine_OK_1.wav\n",
      "audio_samples/OK/machine_OK_10.wav\n",
      "audio_samples/OK/machine_OK_11.wav\n",
      "audio_samples/OK/machine_OK_12.wav\n",
      "audio_samples/OK/machine_OK_13.wav\n",
      "audio_samples/OK/machine_OK_14.wav\n",
      "audio_samples/OK/machine_OK_15.wav\n",
      "audio_samples/OK/machine_OK_16.wav\n",
      "audio_samples/OK/machine_OK_17.wav\n",
      "audio_samples/OK/machine_OK_18.wav\n",
      "audio_samples/OK/machine_OK_19.wav\n",
      "audio_samples/OK/machine_OK_2.wav\n",
      "audio_samples/OK/machine_OK_20.wav\n",
      "audio_samples/OK/machine_OK_21.wav\n",
      "audio_samples/OK/machine_OK_22.wav\n",
      "audio_samples/OK/machine_OK_23.wav\n",
      "audio_samples/OK/machine_OK_24.wav\n",
      "audio_samples/OK/machine_OK_25.wav\n",
      "audio_samples/OK/machine_OK_26.wav\n",
      "audio_samples/OK/machine_OK_27.wav\n",
      "audio_samples/OK/machine_OK_28.wav\n",
      "audio_samples/OK/machine_OK_29.wav\n",
      "audio_samples/OK/machine_OK_3.wav\n",
      "audio_samples/OK/machine_OK_30.wav\n",
      "audio_samples/OK/machine_OK_31.wav\n",
      "audio_samples/OK/machine_OK_32.wav\n",
      "audio_samples/OK/machine_OK_33.wav\n",
      "audio_samples/OK/machine_OK_34.wav\n",
      "audio_samples/OK/machine_OK_35.wav\n",
      "audio_samples/OK/machine_OK_36.wav\n",
      "audio_samples/OK/machine_OK_37.wav\n",
      "audio_samples/OK/machine_OK_38.wav\n",
      "audio_samples/OK/machine_OK_39.wav\n",
      "audio_samples/OK/machine_OK_4.wav\n",
      "audio_samples/OK/machine_OK_40.wav\n",
      "audio_samples/OK/machine_OK_41.wav\n",
      "audio_samples/OK/machine_OK_42.wav\n",
      "audio_samples/OK/machine_OK_43.wav\n",
      "audio_samples/OK/machine_OK_44.wav\n",
      "audio_samples/OK/machine_OK_45.wav\n",
      "audio_samples/OK/machine_OK_46.wav\n",
      "audio_samples/OK/machine_OK_47.wav\n",
      "audio_samples/OK/machine_OK_48.wav\n",
      "audio_samples/OK/machine_OK_49.wav\n",
      "audio_samples/OK/machine_OK_5.wav\n",
      "audio_samples/OK/machine_OK_50.wav\n",
      "audio_samples/OK/machine_OK_51.wav\n",
      "audio_samples/OK/machine_OK_52.wav\n",
      "audio_samples/OK/machine_OK_53.wav\n",
      "audio_samples/OK/machine_OK_54.wav\n",
      "audio_samples/OK/machine_OK_55.wav\n",
      "audio_samples/OK/machine_OK_56.wav\n",
      "audio_samples/OK/machine_OK_57.wav\n",
      "audio_samples/OK/machine_OK_58.wav\n",
      "audio_samples/OK/machine_OK_59.wav\n",
      "audio_samples/OK/machine_OK_6.wav\n",
      "audio_samples/OK/machine_OK_60.wav\n",
      "audio_samples/OK/machine_OK_61.wav\n",
      "audio_samples/OK/machine_OK_7.wav\n",
      "audio_samples/OK/machine_OK_8.wav\n",
      "audio_samples/OK/machine_OK_9.wav\n",
      "\n",
      "Done.\n",
      "Execution time: 0:00:29.402427\n"
     ]
    }
   ],
   "source": [
    "spectogram_batch(\"audio_samples/OK/\", \"spectograms/OK/\")"
   ]
  },
  {
   "cell_type": "markdown",
   "metadata": {},
   "source": [
    "## Checking the number of generated files"
   ]
  },
  {
   "cell_type": "code",
   "execution_count": 16,
   "metadata": {},
   "outputs": [
    {
     "name": "stdout",
     "output_type": "stream",
     "text": [
      "Directory spectograms/OK/ has 61 spectogram jpg files.\n"
     ]
    }
   ],
   "source": [
    "for root, _, files in os.walk('spectograms/OK/'):\n",
    "    print(\"Directory\", root, \"has\", len(files), \"spectogram jpg files.\")"
   ]
  },
  {
   "cell_type": "code",
   "execution_count": 17,
   "metadata": {},
   "outputs": [
    {
     "name": "stdout",
     "output_type": "stream",
     "text": [
      "Directory spectograms/KO/ has 61 spectogram jpg files.\n"
     ]
    }
   ],
   "source": [
    "for root, _, files in os.walk('spectograms/KO/'):\n",
    "    print(\"Directory\", root, \"has\", len(files), \"spectogram jpg files.\")"
   ]
  },
  {
   "cell_type": "markdown",
   "metadata": {},
   "source": [
    "## EDA On the images to check the shape of each spectograms"
   ]
  },
  {
   "cell_type": "code",
   "execution_count": 18,
   "metadata": {},
   "outputs": [],
   "source": [
    "def image_eda(data_dir, option):\n",
    "    \"\"\"\n",
    "    Images EDA\n",
    "    \"\"\"\n",
    "    from basic_image_eda import BasicImageEDA\n",
    "\n",
    "    if option == 'basic':\n",
    "        BasicImageEDA.explore(data_dir)  # Use this for basic Image EDA\n",
    "\n",
    "    if option == 'advanced':\n",
    "        extensions = ['jpg']\n",
    "        threads = 0\n",
    "        dimension_plot = True\n",
    "        channel_hist = True\n",
    "        nonzero = False\n",
    "        hw_division_factor = 1.0\n",
    "\n",
    "        BasicImageEDA.explore(data_dir, extensions, threads, dimension_plot,\n",
    "                              channel_hist, nonzero, hw_division_factor)"
   ]
  },
  {
   "cell_type": "code",
   "execution_count": 19,
   "metadata": {},
   "outputs": [
    {
     "name": "stdout",
     "output_type": "stream",
     "text": [
      "\n",
      "found 61 images.\n",
      "Using 8 threads. (max:8)\n",
      "\n"
     ]
    },
    {
     "name": "stderr",
     "output_type": "stream",
     "text": [
      "100%|██████████| 61/61 [00:02<00:00, 29.52it/s]"
     ]
    },
    {
     "name": "stdout",
     "output_type": "stream",
     "text": [
      "\n",
      "*--------------------------------------------------------------------------------------*\n",
      "number of images                         |  61\n",
      "\n",
      "dtype                                    |  uint8\n",
      "channels                                 |  [3]\n",
      "extensions                               |  ['jpg']\n",
      "\n",
      "min height                               |  1200\n",
      "max height                               |  1200\n",
      "mean height                              |  1200.0\n",
      "median height                            |  1200\n",
      "\n",
      "min width                                |  1800\n",
      "max width                                |  1800\n",
      "mean width                               |  1800.0\n",
      "median width                             |  1800\n",
      "\n",
      "mean height/width ratio                  |  0.6666666666666666\n",
      "median height/width ratio                |  0.6666666666666666\n",
      "recommended input size(by mean)          |  [1200 1800] (h x w, multiples of 8)\n",
      "recommended input size(by mean)          |  [1200 1792] (h x w, multiples of 16)\n",
      "recommended input size(by mean)          |  [1216 1792] (h x w, multiples of 32)\n",
      "\n",
      "channel mean(0~1)                        |  [0.8595011  0.59775245 0.65449506]\n",
      "channel std(0~1)                         |  [0.23223472 0.3655816  0.30226487]\n",
      "*--------------------------------------------------------------------------------------*\n",
      "eda ended in 00 hours 00 minutes 02 seconds\n"
     ]
    },
    {
     "name": "stderr",
     "output_type": "stream",
     "text": [
      "\n"
     ]
    }
   ],
   "source": [
    "image_eda(\"./spectograms/OK\",  \"basic\")"
   ]
  },
  {
   "cell_type": "code",
   "execution_count": 20,
   "metadata": {},
   "outputs": [
    {
     "name": "stdout",
     "output_type": "stream",
     "text": [
      "\n",
      "found 61 images.\n",
      "Using 8 threads. (max:8)\n",
      "\n"
     ]
    },
    {
     "name": "stderr",
     "output_type": "stream",
     "text": [
      "100%|██████████| 61/61 [00:01<00:00, 32.31it/s]"
     ]
    },
    {
     "name": "stdout",
     "output_type": "stream",
     "text": [
      "\n",
      "*--------------------------------------------------------------------------------------*\n",
      "number of images                         |  61\n",
      "\n",
      "dtype                                    |  uint8\n",
      "channels                                 |  [3]\n",
      "extensions                               |  ['jpg']\n",
      "\n",
      "min height                               |  1200\n",
      "max height                               |  1200\n",
      "mean height                              |  1200.0\n",
      "median height                            |  1200\n",
      "\n",
      "min width                                |  1800\n",
      "max width                                |  1800\n",
      "mean width                               |  1800.0\n",
      "median width                             |  1800\n",
      "\n",
      "mean height/width ratio                  |  0.6666666666666666\n",
      "median height/width ratio                |  0.6666666666666666\n",
      "recommended input size(by mean)          |  [1200 1800] (h x w, multiples of 8)\n",
      "recommended input size(by mean)          |  [1200 1792] (h x w, multiples of 16)\n",
      "recommended input size(by mean)          |  [1216 1792] (h x w, multiples of 32)\n",
      "\n",
      "channel mean(0~1)                        |  [0.84513074 0.58485675 0.65627944]\n",
      "channel std(0~1)                         |  [0.24067363 0.3731367  0.30098653]\n",
      "*--------------------------------------------------------------------------------------*\n",
      "eda ended in 00 hours 00 minutes 02 seconds\n"
     ]
    },
    {
     "name": "stderr",
     "output_type": "stream",
     "text": [
      "\n"
     ]
    }
   ],
   "source": [
    "image_eda(\"./spectograms/KO\", \"basic\")"
   ]
  },
  {
   "cell_type": "code",
   "execution_count": 21,
   "metadata": {},
   "outputs": [
    {
     "data": {
      "text/plain": [
       "Text(0, 0.5, 'Number of Spectograms')"
      ]
     },
     "execution_count": 21,
     "metadata": {},
     "output_type": "execute_result"
    },
    {
     "data": {
      "image/png": "[encoded data removed]",
      "text/plain": [
       "<Figure size 1080x504 with 1 Axes>"
      ]
     },
     "metadata": {
      "needs_background": "light"
     },
     "output_type": "display_data"
    }
   ],
   "source": [
    "number_classes = {\n",
    "    'OK': len(os.listdir('spectograms/OK')),\n",
    "    'KO': len(os.listdir('spectograms/KO'))\n",
    "}\n",
    "\n",
    "plt.figure(figsize=(15, 7))\n",
    "plt.bar(number_classes.keys(), number_classes.values(), width=.5)\n",
    "plt.title(\"Number of MEL spectograms by Class\")\n",
    "plt.xlabel('Class')\n",
    "plt.ylabel('Number of Spectograms')"
   ]
  },
  {
   "cell_type": "markdown",
   "metadata": {},
   "source": [
    "## Zipping the files"
   ]
  },
  {
   "cell_type": "code",
   "execution_count": 23,
   "metadata": {},
   "outputs": [],
   "source": [
    "create_dir(\"archive\")"
   ]
  },
  {
   "cell_type": "code",
   "execution_count": 24,
   "metadata": {},
   "outputs": [
    {
     "data": {
      "text/plain": [
       "'/mnt/batch/tasks/shared/LS_root/mounts/clusters/standardd13v2/code/Users/seretkow/Sound/MachineSoundAnomaly/archive/spectograms.zip'"
      ]
     },
     "execution_count": 24,
     "metadata": {},
     "output_type": "execute_result"
    }
   ],
   "source": [
    "shutil.make_archive(\"archive/spectograms\", 'zip', \"spectograms/\")"
   ]
  },
  {
   "cell_type": "code",
   "execution_count": 25,
   "metadata": {},
   "outputs": [
    {
     "name": "stdout",
     "output_type": "stream",
     "text": [
      "-rwxrwxrwx 1 root root 52M Oct 25 13:08 archive/spectograms.zip\r\n"
     ]
    }
   ],
   "source": [
    "!ls archive/spectograms.zip -lh"
   ]
  },
  {
   "cell_type": "code",
   "execution_count": 27,
   "metadata": {},
   "outputs": [
    {
     "name": "stdout",
     "output_type": "stream",
     "text": [
      "Click to download the file:\n"
     ]
    },
    {
     "data": {
      "text/html": [
       "<a href='archive/spectograms.zip' target='_blank'>archive/spectograms.zip</a><br>"
      ],
      "text/plain": [
       "/mnt/batch/tasks/shared/LS_root/mounts/clusters/standardd13v2/code/Users/seretkow/Sound/MachineSoundAnomaly/archive/spectograms.zip"
      ]
     },
     "execution_count": 27,
     "metadata": {},
     "output_type": "execute_result"
    }
   ],
   "source": [
    "from IPython.display import FileLink\n",
    "\n",
    "LINK = FileLink(path='archive/spectograms.zip')\n",
    "print(\"Click to download the file:\")\n",
    "LINK"
   ]
  },
  {
   "cell_type": "markdown",
   "metadata": {},
   "source": [
    "Now you can use Azure Custom Vision to create an image classification model"
   ]
  },
  {
   "cell_type": "markdown",
   "metadata": {},
   "source": [
    "> End. You can go to the next notebook"
   ]
  },
  {
   "cell_type": "markdown",
   "metadata": {},
   "source": [
    "Note: All these Python notebooks were made for demo purposes. They were not designed for production usage. Some feature can be currently in public preview. This preview version is provided without a service-level agreement. Certain features might not be supported or might have constrained capabilities. For more information, see Supplemental Terms of Use for Microsoft Azure Previews. https://azure.microsoft.com/en-us/support/legal/preview-supplemental-terms/"
   ]
  },
  {
   "cell_type": "code",
   "execution_count": null,
   "metadata": {},
   "outputs": [],
   "source": []
  }
 ],
 "metadata": {
  "kernel_info": {
   "name": "python3-azureml"
  },
  "kernelspec": {
   "display_name": "Python 3 (ipykernel)",
   "language": "python",
   "name": "python3"
  },
  "language_info": {
   "codemirror_mode": {
    "name": "ipython",
    "version": 3
   },
   "file_extension": ".py",
   "mimetype": "text/x-python",
   "name": "python",
   "nbconvert_exporter": "python",
   "pygments_lexer": "ipython3",
   "version": "3.8.5"
  },
  "nteract": {
   "version": "nteract-front-end@1.0.0"
  }
 },
 "nbformat": 4,
 "nbformat_minor": 1
}
