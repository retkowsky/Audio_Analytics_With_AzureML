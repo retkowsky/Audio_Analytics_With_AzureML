{
 "cells": [
  {
   "cell_type": "markdown",
   "metadata": {},
   "source": [
    "# Acoustic Anomaly Detection with Azure Machine Learning\n",
    "## 4. Spectograms creation\n",
    "\n",
    "<img src=\"https://github.com/retkowsky/Audio_Analytics_With_AzureML/raw/main/image.jpg\" width = 800>\n",
    "<div class=\"alert alert-info\"> <b> In this notebook we will generate spectograms for all the samples files</b></div>\n",
    "\n",
    "Serge Retkowsky | serge.retkowsky@microsoft.com | 31-May-2022 | V1"
   ]
  },
  {
   "cell_type": "code",
   "execution_count": 1,
   "metadata": {},
   "outputs": [],
   "source": [
    "import matplotlib.pyplot as plt\n",
    "%matplotlib inline\n",
    "\n",
    "import librosa\n",
    "import librosa.display\n",
    "import IPython.display as ipd\n",
    "import numpy as np\n",
    "import wave\n",
    "from scipy.io import wavfile as wav\n",
    "import os\n",
    "import os.path, time\n",
    "import seaborn\n",
    "import glob\n",
    "from datetime import datetime\n",
    "import shutil\n",
    "from pathlib import Path\n",
    "import urllib.request\n",
    "from zipfile import ZipFile"
   ]
  },
  {
   "cell_type": "code",
   "execution_count": 2,
   "metadata": {},
   "outputs": [
    {
     "data": {
      "text/plain": [
       "'3.8.5 (default, Sep  4 2020, 07:30:14) \\n[GCC 7.3.0]'"
      ]
     },
     "execution_count": 2,
     "metadata": {},
     "output_type": "execute_result"
    }
   ],
   "source": [
    "import sys\n",
    "sys.version"
   ]
  },
  {
   "cell_type": "code",
   "execution_count": 3,
   "metadata": {},
   "outputs": [
    {
     "name": "stdout",
     "output_type": "stream",
     "text": [
      "Current Date: 2022-05-31 09:03:58.288565\n"
     ]
    }
   ],
   "source": [
    "import datetime\n",
    "print('Current Date: ' + str(datetime.datetime.today()))"
   ]
  },
  {
   "cell_type": "code",
   "execution_count": 4,
   "metadata": {},
   "outputs": [],
   "source": [
    "def createdir(mydir):\n",
    "    \n",
    "    path = Path(mydir)\n",
    "    \n",
    "    if path.is_dir():\n",
    "        print(\"Directory\", mydir, 'exists so we will use it.')\n",
    "    \n",
    "    else:\n",
    "        os.mkdir(mydir)"
   ]
  },
  {
   "cell_type": "markdown",
   "metadata": {},
   "source": [
    "## Generating all the spectograms"
   ]
  },
  {
   "cell_type": "code",
   "execution_count": 5,
   "metadata": {},
   "outputs": [],
   "source": [
    "durationsecs = 10\n",
    "hoplength = 512\n",
    "samprate = 44100\n",
    "nfft = 2048"
   ]
  },
  {
   "cell_type": "code",
   "execution_count": 6,
   "metadata": {},
   "outputs": [],
   "source": [
    "def spectogram_batch(wavdir, resultdir):\n",
    "    \n",
    "    createdir(resultdir)\n",
    "    \n",
    "    for root, _, files in os.walk(wavdir):\n",
    "        print(\"Directory\", root, \"has\", len(files), \"files.\")\n",
    "    \n",
    "    from datetime import datetime\n",
    "    start_time = datetime.now()\n",
    "    \n",
    "    print(\"Creating the spectograms for all the wav files from\", wavdir)\n",
    "    print(\"\\nRunning...\\n\")\n",
    "    \n",
    "    wavfiles = [file for file in os.listdir(wavdir) if file.endswith(('wav'))]\n",
    "    \n",
    "    for wavfile in wavfiles:\n",
    "        \n",
    "        plt.figure(figsize = (15, 7))\n",
    "        wavfile = wavdir + wavfile\n",
    "        print(wavfile)\n",
    "        y, sr = librosa.load(wavfile,  sr = None, mono = True, offset = 0.0, duration = durationsecs)\n",
    "        plt.ioff()\n",
    "        fig = plt.figure()\n",
    "        \n",
    "        mel_signal = librosa.feature.melspectrogram(y = y, sr = sr, hop_length = hoplength, n_fft = nfft)\n",
    "        spectrogram = np.abs(mel_signal)\n",
    "        power_to_db = librosa.power_to_db(spectrogram, ref = np.max)\n",
    "        librosa.display.specshow(power_to_db, sr = sr, x_axis = 'time', y_axis = 'mel', \n",
    "                                 cmap = 'magma', hop_length = hoplength)\n",
    "\n",
    "        plt.axis('off')\n",
    "        outputfilename = wavfile.split('.')\n",
    "        outputfilename = outputfilename[0].split('/')\n",
    "        \n",
    "        savefilename = resultdir + '/' + str(outputfilename[2]) + '.jpg'\n",
    "        plt.savefig(savefilename, dpi = 300)\n",
    "        plt.close('all')\n",
    "    \n",
    "    print('\\nDone.')\n",
    "    end_time = datetime.now()\n",
    "    print(\"Execution time:\", (end_time-start_time))"
   ]
  },
  {
   "cell_type": "code",
   "execution_count": 7,
   "metadata": {},
   "outputs": [],
   "source": [
    "createdir(\"spectogramsmachine\")"
   ]
  },
  {
   "cell_type": "code",
   "execution_count": 8,
   "metadata": {},
   "outputs": [],
   "source": [
    "createdir(\"spectogramsmachine/OK\")"
   ]
  },
  {
   "cell_type": "code",
   "execution_count": 9,
   "metadata": {},
   "outputs": [],
   "source": [
    "createdir(\"spectogramsmachine/KO\")"
   ]
  },
  {
   "cell_type": "markdown",
   "metadata": {},
   "source": [
    "## Running the spectograms for all the samples WAV files"
   ]
  },
  {
   "cell_type": "code",
   "execution_count": 10,
   "metadata": {},
   "outputs": [
    {
     "name": "stdout",
     "output_type": "stream",
     "text": [
      "Directory spectogramsmachine/KO/ exists so we will use it.\n",
      "Directory soundssamples/KO/ has 61 files.\n",
      "Creating the spectograms for all the wav files from soundssamples/KO/\n",
      "\n",
      "Running...\n",
      "\n",
      "soundssamples/KO/machine_KO_1.wav\n",
      "soundssamples/KO/machine_KO_10.wav\n",
      "soundssamples/KO/machine_KO_11.wav\n",
      "soundssamples/KO/machine_KO_12.wav\n",
      "soundssamples/KO/machine_KO_13.wav\n",
      "soundssamples/KO/machine_KO_14.wav\n",
      "soundssamples/KO/machine_KO_15.wav\n",
      "soundssamples/KO/machine_KO_16.wav\n",
      "soundssamples/KO/machine_KO_17.wav\n",
      "soundssamples/KO/machine_KO_18.wav\n",
      "soundssamples/KO/machine_KO_19.wav\n",
      "soundssamples/KO/machine_KO_2.wav\n",
      "soundssamples/KO/machine_KO_20.wav\n",
      "soundssamples/KO/machine_KO_21.wav\n",
      "soundssamples/KO/machine_KO_22.wav\n",
      "soundssamples/KO/machine_KO_23.wav\n",
      "soundssamples/KO/machine_KO_24.wav\n",
      "soundssamples/KO/machine_KO_25.wav\n",
      "soundssamples/KO/machine_KO_26.wav\n",
      "soundssamples/KO/machine_KO_27.wav\n",
      "soundssamples/KO/machine_KO_28.wav\n",
      "soundssamples/KO/machine_KO_29.wav\n",
      "soundssamples/KO/machine_KO_3.wav\n",
      "soundssamples/KO/machine_KO_30.wav\n",
      "soundssamples/KO/machine_KO_31.wav\n",
      "soundssamples/KO/machine_KO_32.wav\n",
      "soundssamples/KO/machine_KO_33.wav\n",
      "soundssamples/KO/machine_KO_34.wav\n",
      "soundssamples/KO/machine_KO_35.wav\n",
      "soundssamples/KO/machine_KO_36.wav\n",
      "soundssamples/KO/machine_KO_37.wav\n",
      "soundssamples/KO/machine_KO_38.wav\n",
      "soundssamples/KO/machine_KO_39.wav\n",
      "soundssamples/KO/machine_KO_4.wav\n",
      "soundssamples/KO/machine_KO_40.wav\n",
      "soundssamples/KO/machine_KO_41.wav\n",
      "soundssamples/KO/machine_KO_42.wav\n",
      "soundssamples/KO/machine_KO_43.wav\n",
      "soundssamples/KO/machine_KO_44.wav\n",
      "soundssamples/KO/machine_KO_45.wav\n",
      "soundssamples/KO/machine_KO_46.wav\n",
      "soundssamples/KO/machine_KO_47.wav\n",
      "soundssamples/KO/machine_KO_48.wav\n",
      "soundssamples/KO/machine_KO_49.wav\n",
      "soundssamples/KO/machine_KO_5.wav\n",
      "soundssamples/KO/machine_KO_50.wav\n",
      "soundssamples/KO/machine_KO_51.wav\n",
      "soundssamples/KO/machine_KO_52.wav\n",
      "soundssamples/KO/machine_KO_53.wav\n",
      "soundssamples/KO/machine_KO_54.wav\n",
      "soundssamples/KO/machine_KO_55.wav\n",
      "soundssamples/KO/machine_KO_56.wav\n",
      "soundssamples/KO/machine_KO_57.wav\n",
      "soundssamples/KO/machine_KO_58.wav\n",
      "soundssamples/KO/machine_KO_59.wav\n",
      "soundssamples/KO/machine_KO_6.wav\n",
      "soundssamples/KO/machine_KO_60.wav\n",
      "soundssamples/KO/machine_KO_61.wav\n",
      "soundssamples/KO/machine_KO_7.wav\n",
      "soundssamples/KO/machine_KO_8.wav\n",
      "soundssamples/KO/machine_KO_9.wav\n",
      "\n",
      "Done.\n",
      "Execution time: 0:00:33.760502\n"
     ]
    }
   ],
   "source": [
    "spectogram_batch(\"soundssamples/KO/\", \"spectogramsmachine/KO/\")"
   ]
  },
  {
   "cell_type": "code",
   "execution_count": 11,
   "metadata": {},
   "outputs": [
    {
     "name": "stdout",
     "output_type": "stream",
     "text": [
      "Directory spectogramsmachine/OK/ exists so we will use it.\n",
      "Directory soundssamples/OK/ has 61 files.\n",
      "Creating the spectograms for all the wav files from soundssamples/OK/\n",
      "\n",
      "Running...\n",
      "\n",
      "soundssamples/OK/machine_OK_1.wav\n",
      "soundssamples/OK/machine_OK_10.wav\n",
      "soundssamples/OK/machine_OK_11.wav\n",
      "soundssamples/OK/machine_OK_12.wav\n",
      "soundssamples/OK/machine_OK_13.wav\n",
      "soundssamples/OK/machine_OK_14.wav\n",
      "soundssamples/OK/machine_OK_15.wav\n",
      "soundssamples/OK/machine_OK_16.wav\n",
      "soundssamples/OK/machine_OK_17.wav\n",
      "soundssamples/OK/machine_OK_18.wav\n",
      "soundssamples/OK/machine_OK_19.wav\n",
      "soundssamples/OK/machine_OK_2.wav\n",
      "soundssamples/OK/machine_OK_20.wav\n",
      "soundssamples/OK/machine_OK_21.wav\n",
      "soundssamples/OK/machine_OK_22.wav\n",
      "soundssamples/OK/machine_OK_23.wav\n",
      "soundssamples/OK/machine_OK_24.wav\n",
      "soundssamples/OK/machine_OK_25.wav\n",
      "soundssamples/OK/machine_OK_26.wav\n",
      "soundssamples/OK/machine_OK_27.wav\n",
      "soundssamples/OK/machine_OK_28.wav\n",
      "soundssamples/OK/machine_OK_29.wav\n",
      "soundssamples/OK/machine_OK_3.wav\n",
      "soundssamples/OK/machine_OK_30.wav\n",
      "soundssamples/OK/machine_OK_31.wav\n",
      "soundssamples/OK/machine_OK_32.wav\n",
      "soundssamples/OK/machine_OK_33.wav\n",
      "soundssamples/OK/machine_OK_34.wav\n",
      "soundssamples/OK/machine_OK_35.wav\n",
      "soundssamples/OK/machine_OK_36.wav\n",
      "soundssamples/OK/machine_OK_37.wav\n",
      "soundssamples/OK/machine_OK_38.wav\n",
      "soundssamples/OK/machine_OK_39.wav\n",
      "soundssamples/OK/machine_OK_4.wav\n",
      "soundssamples/OK/machine_OK_40.wav\n",
      "soundssamples/OK/machine_OK_41.wav\n",
      "soundssamples/OK/machine_OK_42.wav\n",
      "soundssamples/OK/machine_OK_43.wav\n",
      "soundssamples/OK/machine_OK_44.wav\n",
      "soundssamples/OK/machine_OK_45.wav\n",
      "soundssamples/OK/machine_OK_46.wav\n",
      "soundssamples/OK/machine_OK_47.wav\n",
      "soundssamples/OK/machine_OK_48.wav\n",
      "soundssamples/OK/machine_OK_49.wav\n",
      "soundssamples/OK/machine_OK_5.wav\n",
      "soundssamples/OK/machine_OK_50.wav\n",
      "soundssamples/OK/machine_OK_51.wav\n",
      "soundssamples/OK/machine_OK_52.wav\n",
      "soundssamples/OK/machine_OK_53.wav\n",
      "soundssamples/OK/machine_OK_54.wav\n",
      "soundssamples/OK/machine_OK_55.wav\n",
      "soundssamples/OK/machine_OK_56.wav\n",
      "soundssamples/OK/machine_OK_57.wav\n",
      "soundssamples/OK/machine_OK_58.wav\n",
      "soundssamples/OK/machine_OK_59.wav\n",
      "soundssamples/OK/machine_OK_6.wav\n",
      "soundssamples/OK/machine_OK_60.wav\n",
      "soundssamples/OK/machine_OK_61.wav\n",
      "soundssamples/OK/machine_OK_7.wav\n",
      "soundssamples/OK/machine_OK_8.wav\n",
      "soundssamples/OK/machine_OK_9.wav\n",
      "\n",
      "Done.\n",
      "Execution time: 0:00:33.733239\n"
     ]
    }
   ],
   "source": [
    "spectogram_batch(\"soundssamples/OK/\", \"spectogramsmachine/OK/\")"
   ]
  },
  {
   "cell_type": "markdown",
   "metadata": {},
   "source": [
    "## Checking the number of generated files"
   ]
  },
  {
   "cell_type": "code",
   "execution_count": 12,
   "metadata": {},
   "outputs": [
    {
     "name": "stdout",
     "output_type": "stream",
     "text": [
      "Directory spectogramsmachine/OK/ has 61 spectogram jpg files.\n"
     ]
    }
   ],
   "source": [
    "for root, _, files in os.walk('spectogramsmachine/OK/'):\n",
    "    print(\"Directory\", root, \"has\", len(files), \"spectogram jpg files.\")"
   ]
  },
  {
   "cell_type": "code",
   "execution_count": 13,
   "metadata": {},
   "outputs": [
    {
     "name": "stdout",
     "output_type": "stream",
     "text": [
      "Directory spectogramsmachine/KO/ has 61 spectogram jpg files.\n"
     ]
    }
   ],
   "source": [
    "for root, _, files in os.walk('spectogramsmachine/KO/'):\n",
    "    print(\"Directory\", root, \"has\", len(files), \"spectogram jpg files.\")"
   ]
  },
  {
   "cell_type": "code",
   "execution_count": 14,
   "metadata": {},
   "outputs": [
    {
     "data": {
      "text/plain": [
       "Text(0, 0.5, 'Number of Spectograms')"
      ]
     },
     "execution_count": 14,
     "metadata": {},
     "output_type": "execute_result"
    },
    {
     "data": {
      "image/png": "[encoded data removed]",
      "text/plain": [
       "<Figure size 1080x504 with 1 Axes>"
      ]
     },
     "metadata": {
      "needs_background": "light"
     },
     "output_type": "display_data"
    }
   ],
   "source": [
    "number_classes = {'OK': len(os.listdir('spectogramsmachine/OK')),\n",
    "                'KO': len(os.listdir('spectogramsmachine/KO')) }\n",
    "\n",
    "plt.figure(figsize = (15, 7))\n",
    "plt.bar(number_classes.keys(), number_classes.values(), width = 0.5)\n",
    "plt.title(\"Number of MEL spectograms by Class\")\n",
    "plt.xlabel('Class')\n",
    "plt.ylabel('Number of Spectograms')"
   ]
  },
  {
   "cell_type": "markdown",
   "metadata": {},
   "source": [
    "## Zipping the files (you can use this zip file to download the images and load them into Azure Custom Vision.ai)"
   ]
  },
  {
   "cell_type": "code",
   "execution_count": 15,
   "metadata": {},
   "outputs": [],
   "source": [
    "createdir(\"zip\")"
   ]
  },
  {
   "cell_type": "code",
   "execution_count": 16,
   "metadata": {},
   "outputs": [
    {
     "name": "stdout",
     "output_type": "stream",
     "text": [
      "Zipping the files...\n",
      "Done.\n"
     ]
    }
   ],
   "source": [
    "print(\"Zipping the files...\")\n",
    "shutil.make_archive(\"zip/spectograms\", \"zip\", \"spectogramsmachine/\")\n",
    "print(\"Done.\")"
   ]
  },
  {
   "cell_type": "code",
   "execution_count": 17,
   "metadata": {},
   "outputs": [
    {
     "name": "stdout",
     "output_type": "stream",
     "text": [
      "-rwxrwxrwx 1 root root 51M May 31 09:05 zip/spectograms.zip\r\n"
     ]
    }
   ],
   "source": [
    "!ls zip/spectograms.zip -lh"
   ]
  },
  {
   "cell_type": "code",
   "execution_count": 18,
   "metadata": {},
   "outputs": [
    {
     "name": "stdout",
     "output_type": "stream",
     "text": [
      "Click to download the file:\n"
     ]
    },
    {
     "data": {
      "text/html": [
       "<a href='zip/spectograms.zip' target='_blank'>zip/spectograms.zip</a><br>"
      ],
      "text/plain": [
       "/mnt/batch/tasks/shared/LS_root/mounts/clusters/seretkow8/code/Users/seretkow/MachineNoiseDetection/zip/spectograms.zip"
      ]
     },
     "execution_count": 18,
     "metadata": {},
     "output_type": "execute_result"
    }
   ],
   "source": [
    "from IPython.display import FileLink\n",
    "\n",
    "LINK = FileLink(path = 'zip/spectograms.zip')\n",
    "print(\"Click to download the file:\")\n",
    "LINK"
   ]
  },
  {
   "cell_type": "markdown",
   "metadata": {},
   "source": [
    "Now you can use Azure Custom Vision to create an image classification model using the images in this zip file. You can 1) load your images for the 2 class we want to predict 2) Create a model and 3) deploy the model using www.customvision.ai"
   ]
  },
  {
   "cell_type": "markdown",
   "metadata": {},
   "source": [
    "> End. You can go to the next notebook"
   ]
  },
  {
   "cell_type": "markdown",
   "metadata": {},
   "source": [
    "Note: All these Python notebooks were made for demo purposes. They were not designed for production usage. Some feature can be currently in public preview. This preview version is provided without a service-level agreement. Certain features might not be supported or might have constrained capabilities. For more information, see Supplemental Terms of Use for Microsoft Azure Previews. https://azure.microsoft.com/en-us/support/legal/preview-supplemental-terms/"
   ]
  },
  {
   "cell_type": "code",
   "execution_count": null,
   "metadata": {},
   "outputs": [],
   "source": []
  }
 ],
 "metadata": {
  "kernel_info": {
   "name": "python3-azureml"
  },
  "kernelspec": {
   "display_name": "Python 3.8 - Pytorch and Tensorflow",
   "language": "python",
   "name": "azureml_py38_pt_tf"
  },
  "language_info": {
   "codemirror_mode": {
    "name": "ipython",
    "version": 3
   },
   "file_extension": ".py",
   "mimetype": "text/x-python",
   "name": "python",
   "nbconvert_exporter": "python",
   "pygments_lexer": "ipython3",
   "version": "3.8.5"
  },
  "nteract": {
   "version": "nteract-front-end@1.0.0"
  }
 },
 "nbformat": 4,
 "nbformat_minor": 1
}
