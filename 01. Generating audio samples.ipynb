{
 "cells": [
  {
   "cell_type": "markdown",
   "id": "557aff23",
   "metadata": {},
   "source": [
    "# Acoustic Anomaly Detection with Azure Machine Learning\n",
    "\n",
    "## 1. Generating audio samples\n",
    "\n",
    "<img src=\"https://github.com/retkowsky/Audio_Analytics_With_AzureML/raw/main/image.jpg\" width = 800>\n",
    "\n",
    "<div class=\"alert alert-info\"> <b> In this notebook We will generate some sample audio files from 2 main .wav files</b></div>\n",
    "\n",
    "Serge Retkowsky | serge.retkowsky@microsoft.com | 31-May-2022 | V2"
   ]
  },
  {
   "cell_type": "code",
   "execution_count": 1,
   "id": "99173ffe",
   "metadata": {},
   "outputs": [],
   "source": [
    "import warnings\n",
    "warnings.filterwarnings(\"ignore\")"
   ]
  },
  {
   "cell_type": "code",
   "execution_count": 2,
   "id": "ccbd719e",
   "metadata": {},
   "outputs": [],
   "source": [
    "import datetime\n",
    "from pydub import AudioSegment\n",
    "from pydub.utils import make_chunks\n",
    "import os.path\n",
    "from os import path"
   ]
  },
  {
   "cell_type": "code",
   "execution_count": 3,
   "id": "a2f6d663",
   "metadata": {},
   "outputs": [
    {
     "data": {
      "text/plain": [
       "'3.8.5 (default, Sep  4 2020, 07:30:14) \\n[GCC 7.3.0]'"
      ]
     },
     "execution_count": 3,
     "metadata": {},
     "output_type": "execute_result"
    }
   ],
   "source": [
    "import sys\n",
    "sys.version"
   ]
  },
  {
   "cell_type": "code",
   "execution_count": 4,
   "id": "86142e96",
   "metadata": {},
   "outputs": [
    {
     "name": "stdout",
     "output_type": "stream",
     "text": [
      "Current Date: 2022-05-31 08:55:23.329565\n"
     ]
    }
   ],
   "source": [
    "print('Current Date: ' + str(datetime.datetime.today()))"
   ]
  },
  {
   "cell_type": "code",
   "execution_count": 5,
   "id": "9977414f",
   "metadata": {},
   "outputs": [],
   "source": [
    "def createdir(dir1):\n",
    "    if path.os.path.isdir(dir1):\n",
    "        print(\"Directory:\", dir1, \"exists\")\n",
    "\n",
    "    else:\n",
    "        print(\"Creating directory:\", dir1)\n",
    "        os.mkdir(dir1)\n",
    "        print(\"Done\")"
   ]
  },
  {
   "cell_type": "markdown",
   "id": "b8598bbd",
   "metadata": {},
   "source": [
    "## Let's create some directories"
   ]
  },
  {
   "cell_type": "code",
   "execution_count": 6,
   "id": "ad3f3e4d",
   "metadata": {},
   "outputs": [
    {
     "name": "stdout",
     "output_type": "stream",
     "text": [
      "Creating directory: sounds\n",
      "Done\n"
     ]
    }
   ],
   "source": [
    "createdir(\"sounds\")"
   ]
  },
  {
   "cell_type": "code",
   "execution_count": 7,
   "id": "ca5354df",
   "metadata": {},
   "outputs": [
    {
     "name": "stdout",
     "output_type": "stream",
     "text": [
      "Creating directory: soundssamples\n",
      "Done\n",
      "Creating directory: soundssamples/OK\n",
      "Done\n",
      "Creating directory: soundssamples/KO\n",
      "Done\n"
     ]
    }
   ],
   "source": [
    "createdir(\"soundssamples\")\n",
    "createdir(\"soundssamples/OK\")\n",
    "createdir(\"soundssamples/KO\")"
   ]
  },
  {
   "cell_type": "code",
   "execution_count": 8,
   "id": "2ec2cdd8",
   "metadata": {},
   "outputs": [
    {
     "name": "stdout",
     "output_type": "stream",
     "text": [
      "Creating directory: test\n",
      "Done\n"
     ]
    }
   ],
   "source": [
    "createdir(\"test\")"
   ]
  },
  {
   "cell_type": "markdown",
   "id": "ac0b0a58",
   "metadata": {},
   "source": [
    "## Initial audio files"
   ]
  },
  {
   "cell_type": "code",
   "execution_count": 9,
   "id": "fdc454a2",
   "metadata": {},
   "outputs": [
    {
     "name": "stdout",
     "output_type": "stream",
     "text": [
      "1. Downloading the main sounds zip file...\n",
      "\n",
      "--2022-05-31 08:55:45--  https://www.dropbox.com/s/sysvoxdxd2998hn/MachineSounds.zip\n",
      "Resolving www.dropbox.com (www.dropbox.com)... 162.125.66.18, 2620:100:6021:18::a27d:4112\n",
      "Connecting to www.dropbox.com (www.dropbox.com)|162.125.66.18|:443... connected.\n",
      "HTTP request sent, awaiting response... 301 Moved Permanently\n",
      "Location: /s/raw/sysvoxdxd2998hn/MachineSounds.zip [following]\n",
      "--2022-05-31 08:55:45--  https://www.dropbox.com/s/raw/sysvoxdxd2998hn/MachineSounds.zip\n",
      "Reusing existing connection to www.dropbox.com:443.\n",
      "HTTP request sent, awaiting response... 302 Found\n",
      "Location: https://ucbc3961957fd3f9a35a7daea343.dl.dropboxusercontent.com/cd/0/inline/BmQjQNQHIer5Bd-3z-IU1Zb87N8khvIegqzxLhNFBE5rnRu-fG3vJPgTB6ttttupndNaxYsXyyC36WijurSLbBcLDzCxavJaHnE9d-e3nVzTdZt5ab00bK1B97TlFcvwdP6BpGjRwBn64fpibSn258flviy7EM59kBo2CW0cHGgMVA/file# [following]\n",
      "--2022-05-31 08:55:46--  https://ucbc3961957fd3f9a35a7daea343.dl.dropboxusercontent.com/cd/0/inline/BmQjQNQHIer5Bd-3z-IU1Zb87N8khvIegqzxLhNFBE5rnRu-fG3vJPgTB6ttttupndNaxYsXyyC36WijurSLbBcLDzCxavJaHnE9d-e3nVzTdZt5ab00bK1B97TlFcvwdP6BpGjRwBn64fpibSn258flviy7EM59kBo2CW0cHGgMVA/file\n",
      "Resolving ucbc3961957fd3f9a35a7daea343.dl.dropboxusercontent.com (ucbc3961957fd3f9a35a7daea343.dl.dropboxusercontent.com)... 162.125.66.15, 2620:100:6021:15::a27d:410f\n",
      "Connecting to ucbc3961957fd3f9a35a7daea343.dl.dropboxusercontent.com (ucbc3961957fd3f9a35a7daea343.dl.dropboxusercontent.com)|162.125.66.15|:443... connected.\n",
      "HTTP request sent, awaiting response... 302 Found\n",
      "Location: /cd/0/inline2/BmTRtRWuuBvbgAXnyLWj7qUy-ya-Of5siHAtq-yyxhUNDWN1z2mbonJeVq5A3QpX64VCIcmRja6QzqlG4bxRatAt8Lq_c0ySjm_lb5-Pyu8s0Ho3wgKYROJVO4XUQrAzUKbDk4aL413H9P3z1RCHO-kYUkRGu4WLbYlKgLERKJFYelCZmXGTx0Viidq6JpEHBGyKFM7HfxIAgY7QjkYUPsM_GPdPkVc_nL05LbZt2RML6oOFMkChKRP3H13dlYjCqH_kpWQvLXQHtXFUbu_k2LTR9ImhCf1t7UyTNx-Ck04Rd2fouwZRz4IIw7r8M4itKRVBejMQXI0gNyQxNAzhQE8U5tx9YI8entU_I8QfWNaYkR2IcdtXDdflgyfdw9Lo0oSVkrVMbBb8rzisd_tERtouyVPxEn85ArJl2oOVV3oAqQ/file [following]\n",
      "--2022-05-31 08:55:46--  https://ucbc3961957fd3f9a35a7daea343.dl.dropboxusercontent.com/cd/0/inline2/BmTRtRWuuBvbgAXnyLWj7qUy-ya-Of5siHAtq-yyxhUNDWN1z2mbonJeVq5A3QpX64VCIcmRja6QzqlG4bxRatAt8Lq_c0ySjm_lb5-Pyu8s0Ho3wgKYROJVO4XUQrAzUKbDk4aL413H9P3z1RCHO-kYUkRGu4WLbYlKgLERKJFYelCZmXGTx0Viidq6JpEHBGyKFM7HfxIAgY7QjkYUPsM_GPdPkVc_nL05LbZt2RML6oOFMkChKRP3H13dlYjCqH_kpWQvLXQHtXFUbu_k2LTR9ImhCf1t7UyTNx-Ck04Rd2fouwZRz4IIw7r8M4itKRVBejMQXI0gNyQxNAzhQE8U5tx9YI8entU_I8QfWNaYkR2IcdtXDdflgyfdw9Lo0oSVkrVMbBb8rzisd_tERtouyVPxEn85ArJl2oOVV3oAqQ/file\n",
      "Reusing existing connection to ucbc3961957fd3f9a35a7daea343.dl.dropboxusercontent.com:443.\n",
      "HTTP request sent, awaiting response... 200 OK\n",
      "Length: 136307586 (130M) [application/zip]\n",
      "Saving to: ‘MachineSounds.zip’\n",
      "\n",
      "MachineSounds.zip   100%[===================>] 129.99M  19.0MB/s    in 6.9s    \n",
      "\n",
      "2022-05-31 08:55:54 (18.8 MB/s) - ‘MachineSounds.zip’ saved [136307586/136307586]\n",
      "\n",
      "2. Unzipping the file...\n",
      "\n",
      "Archive:  MachineSounds.zip\n",
      "  inflating: machine.wav             \n",
      "  inflating: machinewithnoise.wav    \n",
      "\n",
      "3. Deleting the zip file...\n",
      "\n",
      "Done!\n"
     ]
    }
   ],
   "source": [
    "os.chdir(\"sounds\")\n",
    "\n",
    "print(\"1. Downloading the main sounds zip file...\\n\")\n",
    "!wget https://www.dropbox.com/s/sysvoxdxd2998hn/MachineSounds.zip\n",
    "\n",
    "print(\"2. Unzipping the file...\\n\")\n",
    "!unzip MachineSounds.zip\n",
    "\n",
    "print(\"\\n3. Deleting the zip file...\\n\")\n",
    "os.remove(\"MachineSounds.zip\")\n",
    "\n",
    "print(\"Done!\")\n",
    "os.chdir(\"..\")"
   ]
  },
  {
   "cell_type": "code",
   "execution_count": 10,
   "id": "153fd655",
   "metadata": {},
   "outputs": [
    {
     "name": "stdout",
     "output_type": "stream",
     "text": [
      "-rwxrwxrwx 1 root root 72M May 30 10:17 sounds/machine.wav\r\n",
      "-rwxrwxrwx 1 root root 72M May 30 10:17 sounds/machinewithnoise.wav\r\n"
     ]
    }
   ],
   "source": [
    "!ls sounds/*.* -lh"
   ]
  },
  {
   "cell_type": "code",
   "execution_count": 11,
   "id": "010f6b56",
   "metadata": {},
   "outputs": [
    {
     "name": "stdout",
     "output_type": "stream",
     "text": [
      "1. Downloading the tests sounds zip file...\n",
      "\n",
      "--2022-05-31 08:56:04--  https://www.dropbox.com/s/nv8dge51r6si4vp/testsfiles.zip\n",
      "Resolving www.dropbox.com (www.dropbox.com)... 162.125.65.18, 2620:100:6021:18::a27d:4112\n",
      "Connecting to www.dropbox.com (www.dropbox.com)|162.125.65.18|:443... connected.\n",
      "HTTP request sent, awaiting response... 301 Moved Permanently\n",
      "Location: /s/raw/nv8dge51r6si4vp/testsfiles.zip [following]\n",
      "--2022-05-31 08:56:04--  https://www.dropbox.com/s/raw/nv8dge51r6si4vp/testsfiles.zip\n",
      "Reusing existing connection to www.dropbox.com:443.\n",
      "HTTP request sent, awaiting response... 302 Found\n",
      "Location: https://uc96b7f315fb884110128cdb8bdc.dl.dropboxusercontent.com/cd/0/inline/BmSQ-WgZsXB54eSTGq-PoZ-jnOb8pJwH77NB6keZnLyT-9et_kBWOgOC4I2hMSWFy9eqAW0mhbBg4jWzo1tfGb2POddL2mFiXciVI5P6TBtsi5h7K0mvyI1VbAbgZ1j7Pr_2Bine6-FbFVZy8DZW_sStufacIyLAJFrnwK0HqRBuMA/file# [following]\n",
      "--2022-05-31 08:56:05--  https://uc96b7f315fb884110128cdb8bdc.dl.dropboxusercontent.com/cd/0/inline/BmSQ-WgZsXB54eSTGq-PoZ-jnOb8pJwH77NB6keZnLyT-9et_kBWOgOC4I2hMSWFy9eqAW0mhbBg4jWzo1tfGb2POddL2mFiXciVI5P6TBtsi5h7K0mvyI1VbAbgZ1j7Pr_2Bine6-FbFVZy8DZW_sStufacIyLAJFrnwK0HqRBuMA/file\n",
      "Resolving uc96b7f315fb884110128cdb8bdc.dl.dropboxusercontent.com (uc96b7f315fb884110128cdb8bdc.dl.dropboxusercontent.com)... 162.125.65.15, 2620:100:6021:15::a27d:410f\n",
      "Connecting to uc96b7f315fb884110128cdb8bdc.dl.dropboxusercontent.com (uc96b7f315fb884110128cdb8bdc.dl.dropboxusercontent.com)|162.125.65.15|:443... connected.\n",
      "HTTP request sent, awaiting response... 302 Found\n",
      "Location: /cd/0/inline2/BmTZXNzyq8LgHBBiuRSofEMHl5x5jMSD1viOlHRkXY7lKzU02QA8jMmo6J166U1rD12ipAlusKcjxX6LV7h13XLdgCkfGrkMpF9t80iuT-3Yvcb_dOfSSELRwB1deuBT1gCTPQoyyNY90LaUqFFCZt__SB5FwyNGO6ZxsBj8DboY_f1JiOkWO48LQgpLS3681BqyEBP4Vzh16Jn_nDz6ga_ZaEwQqIT_iiKESRYuHV66NytvklcII5FvHrnHIgwKEvn9Wkw-YrQPrDKHlxDJIzFVjPo56wo1JeMqiiW0HzPxG6SKTondLPYaDg7cNfD11qfgeFcgjb0G-zLqlAf46U8C5T_fu9CJ8XvewDf85kzBCyrR1xHuNC1ot2y9dnlj87rCesdBuPMQlJroZXVbyK4nvARYPoafoX0B9Ae5IgnSOg/file [following]\n",
      "--2022-05-31 08:56:05--  https://uc96b7f315fb884110128cdb8bdc.dl.dropboxusercontent.com/cd/0/inline2/BmTZXNzyq8LgHBBiuRSofEMHl5x5jMSD1viOlHRkXY7lKzU02QA8jMmo6J166U1rD12ipAlusKcjxX6LV7h13XLdgCkfGrkMpF9t80iuT-3Yvcb_dOfSSELRwB1deuBT1gCTPQoyyNY90LaUqFFCZt__SB5FwyNGO6ZxsBj8DboY_f1JiOkWO48LQgpLS3681BqyEBP4Vzh16Jn_nDz6ga_ZaEwQqIT_iiKESRYuHV66NytvklcII5FvHrnHIgwKEvn9Wkw-YrQPrDKHlxDJIzFVjPo56wo1JeMqiiW0HzPxG6SKTondLPYaDg7cNfD11qfgeFcgjb0G-zLqlAf46U8C5T_fu9CJ8XvewDf85kzBCyrR1xHuNC1ot2y9dnlj87rCesdBuPMQlJroZXVbyK4nvARYPoafoX0B9Ae5IgnSOg/file\n",
      "Reusing existing connection to uc96b7f315fb884110128cdb8bdc.dl.dropboxusercontent.com:443.\n",
      "HTTP request sent, awaiting response... 200 OK\n",
      "Length: 2239951 (2.1M) [application/zip]\n",
      "Saving to: ‘testsfiles.zip’\n",
      "\n",
      "testsfiles.zip      100%[===================>]   2.14M  --.-KB/s    in 0.03s   \n",
      "\n",
      "2022-05-31 08:56:05 (78.8 MB/s) - ‘testsfiles.zip’ saved [2239951/2239951]\n",
      "\n",
      "2. Unzipping the file...\n",
      "\n",
      "Archive:  testsfiles.zip\n",
      "  inflating: machine_KO.wav          \n",
      "  inflating: machine_OK.wav          \n",
      "\n",
      "3. Deleting the zip file...\n",
      "\n",
      "Done!\n"
     ]
    }
   ],
   "source": [
    "os.chdir(\"test\")\n",
    "\n",
    "print(\"1. Downloading the tests sounds zip file...\\n\")\n",
    "!wget https://www.dropbox.com/s/nv8dge51r6si4vp/testsfiles.zip\n",
    "\n",
    "print(\"2. Unzipping the file...\\n\")\n",
    "!unzip testsfiles.zip\n",
    "\n",
    "print(\"\\n3. Deleting the zip file...\\n\")\n",
    "os.remove(\"testsfiles.zip\")\n",
    "\n",
    "print(\"Done!\")\n",
    "os.chdir(\"..\")"
   ]
  },
  {
   "cell_type": "code",
   "execution_count": 12,
   "id": "6ccfa84b",
   "metadata": {},
   "outputs": [
    {
     "name": "stdout",
     "output_type": "stream",
     "text": [
      "-rwxrwxrwx 1 root root 1.2M May 31  2022 test/machine_KO.wav\r\n",
      "-rwxrwxrwx 1 root root 1.2M May 31  2022 test/machine_OK.wav\r\n"
     ]
    }
   ],
   "source": [
    "!ls test/*.* -lh"
   ]
  },
  {
   "cell_type": "markdown",
   "id": "fa933ff5",
   "metadata": {},
   "source": [
    "## Let's create some 7 seconds samples files"
   ]
  },
  {
   "cell_type": "code",
   "execution_count": 13,
   "id": "2555c496",
   "metadata": {},
   "outputs": [],
   "source": [
    "chunk_length_ms = 7000 # in millisec"
   ]
  },
  {
   "cell_type": "code",
   "execution_count": 14,
   "id": "5b7d104e",
   "metadata": {},
   "outputs": [
    {
     "name": "stdout",
     "output_type": "stream",
     "text": [
      "1 \tSaving soundssamples/OK/machine_OK_1.wav\n",
      "2 \tSaving soundssamples/OK/machine_OK_2.wav\n",
      "3 \tSaving soundssamples/OK/machine_OK_3.wav\n",
      "4 \tSaving soundssamples/OK/machine_OK_4.wav\n",
      "5 \tSaving soundssamples/OK/machine_OK_5.wav\n",
      "6 \tSaving soundssamples/OK/machine_OK_6.wav\n",
      "7 \tSaving soundssamples/OK/machine_OK_7.wav\n",
      "8 \tSaving soundssamples/OK/machine_OK_8.wav\n",
      "9 \tSaving soundssamples/OK/machine_OK_9.wav\n",
      "10 \tSaving soundssamples/OK/machine_OK_10.wav\n",
      "11 \tSaving soundssamples/OK/machine_OK_11.wav\n",
      "12 \tSaving soundssamples/OK/machine_OK_12.wav\n",
      "13 \tSaving soundssamples/OK/machine_OK_13.wav\n",
      "14 \tSaving soundssamples/OK/machine_OK_14.wav\n",
      "15 \tSaving soundssamples/OK/machine_OK_15.wav\n",
      "16 \tSaving soundssamples/OK/machine_OK_16.wav\n",
      "17 \tSaving soundssamples/OK/machine_OK_17.wav\n",
      "18 \tSaving soundssamples/OK/machine_OK_18.wav\n",
      "19 \tSaving soundssamples/OK/machine_OK_19.wav\n",
      "20 \tSaving soundssamples/OK/machine_OK_20.wav\n",
      "21 \tSaving soundssamples/OK/machine_OK_21.wav\n",
      "22 \tSaving soundssamples/OK/machine_OK_22.wav\n",
      "23 \tSaving soundssamples/OK/machine_OK_23.wav\n",
      "24 \tSaving soundssamples/OK/machine_OK_24.wav\n",
      "25 \tSaving soundssamples/OK/machine_OK_25.wav\n",
      "26 \tSaving soundssamples/OK/machine_OK_26.wav\n",
      "27 \tSaving soundssamples/OK/machine_OK_27.wav\n",
      "28 \tSaving soundssamples/OK/machine_OK_28.wav\n",
      "29 \tSaving soundssamples/OK/machine_OK_29.wav\n",
      "30 \tSaving soundssamples/OK/machine_OK_30.wav\n",
      "31 \tSaving soundssamples/OK/machine_OK_31.wav\n",
      "32 \tSaving soundssamples/OK/machine_OK_32.wav\n",
      "33 \tSaving soundssamples/OK/machine_OK_33.wav\n",
      "34 \tSaving soundssamples/OK/machine_OK_34.wav\n",
      "35 \tSaving soundssamples/OK/machine_OK_35.wav\n",
      "36 \tSaving soundssamples/OK/machine_OK_36.wav\n",
      "37 \tSaving soundssamples/OK/machine_OK_37.wav\n",
      "38 \tSaving soundssamples/OK/machine_OK_38.wav\n",
      "39 \tSaving soundssamples/OK/machine_OK_39.wav\n",
      "40 \tSaving soundssamples/OK/machine_OK_40.wav\n",
      "41 \tSaving soundssamples/OK/machine_OK_41.wav\n",
      "42 \tSaving soundssamples/OK/machine_OK_42.wav\n",
      "43 \tSaving soundssamples/OK/machine_OK_43.wav\n",
      "44 \tSaving soundssamples/OK/machine_OK_44.wav\n",
      "45 \tSaving soundssamples/OK/machine_OK_45.wav\n",
      "46 \tSaving soundssamples/OK/machine_OK_46.wav\n",
      "47 \tSaving soundssamples/OK/machine_OK_47.wav\n",
      "48 \tSaving soundssamples/OK/machine_OK_48.wav\n",
      "49 \tSaving soundssamples/OK/machine_OK_49.wav\n",
      "50 \tSaving soundssamples/OK/machine_OK_50.wav\n",
      "51 \tSaving soundssamples/OK/machine_OK_51.wav\n",
      "52 \tSaving soundssamples/OK/machine_OK_52.wav\n",
      "53 \tSaving soundssamples/OK/machine_OK_53.wav\n",
      "54 \tSaving soundssamples/OK/machine_OK_54.wav\n",
      "55 \tSaving soundssamples/OK/machine_OK_55.wav\n",
      "56 \tSaving soundssamples/OK/machine_OK_56.wav\n",
      "57 \tSaving soundssamples/OK/machine_OK_57.wav\n",
      "58 \tSaving soundssamples/OK/machine_OK_58.wav\n",
      "59 \tSaving soundssamples/OK/machine_OK_59.wav\n",
      "60 \tSaving soundssamples/OK/machine_OK_60.wav\n",
      "61 \tSaving soundssamples/OK/machine_OK_61.wav\n"
     ]
    }
   ],
   "source": [
    "soundfile = 'sounds/machine.wav'\n",
    "\n",
    "myaudio = AudioSegment.from_file(soundfile, \"wav\")\n",
    "chunks = make_chunks(myaudio, chunk_length_ms) # Make chunks\n",
    "\n",
    "for i, chunk in enumerate(chunks):\n",
    "    chunk_name = \"soundssamples/OK/machine_OK_{0}.wav\".format(i + 1)\n",
    "    print(i + 1, \"\\tSaving\", chunk_name)\n",
    "    chunk.export(chunk_name, format=\"wav\")"
   ]
  },
  {
   "cell_type": "code",
   "execution_count": 15,
   "id": "96a23359",
   "metadata": {},
   "outputs": [
    {
     "name": "stdout",
     "output_type": "stream",
     "text": [
      "Directory: soundssamples/OK/ with 61 files\n"
     ]
    }
   ],
   "source": [
    "for root, _, files in os.walk('soundssamples/OK/'):\n",
    "    print(\"Directory:\", root, \"with\", len(files), \"files\")"
   ]
  },
  {
   "cell_type": "code",
   "execution_count": 16,
   "id": "c2817055",
   "metadata": {},
   "outputs": [
    {
     "name": "stdout",
     "output_type": "stream",
     "text": [
      "1 \tSaving soundssamples/KO/machine_KO_1.wav\n",
      "2 \tSaving soundssamples/KO/machine_KO_2.wav\n",
      "3 \tSaving soundssamples/KO/machine_KO_3.wav\n",
      "4 \tSaving soundssamples/KO/machine_KO_4.wav\n",
      "5 \tSaving soundssamples/KO/machine_KO_5.wav\n",
      "6 \tSaving soundssamples/KO/machine_KO_6.wav\n",
      "7 \tSaving soundssamples/KO/machine_KO_7.wav\n",
      "8 \tSaving soundssamples/KO/machine_KO_8.wav\n",
      "9 \tSaving soundssamples/KO/machine_KO_9.wav\n",
      "10 \tSaving soundssamples/KO/machine_KO_10.wav\n",
      "11 \tSaving soundssamples/KO/machine_KO_11.wav\n",
      "12 \tSaving soundssamples/KO/machine_KO_12.wav\n",
      "13 \tSaving soundssamples/KO/machine_KO_13.wav\n",
      "14 \tSaving soundssamples/KO/machine_KO_14.wav\n",
      "15 \tSaving soundssamples/KO/machine_KO_15.wav\n",
      "16 \tSaving soundssamples/KO/machine_KO_16.wav\n",
      "17 \tSaving soundssamples/KO/machine_KO_17.wav\n",
      "18 \tSaving soundssamples/KO/machine_KO_18.wav\n",
      "19 \tSaving soundssamples/KO/machine_KO_19.wav\n",
      "20 \tSaving soundssamples/KO/machine_KO_20.wav\n",
      "21 \tSaving soundssamples/KO/machine_KO_21.wav\n",
      "22 \tSaving soundssamples/KO/machine_KO_22.wav\n",
      "23 \tSaving soundssamples/KO/machine_KO_23.wav\n",
      "24 \tSaving soundssamples/KO/machine_KO_24.wav\n",
      "25 \tSaving soundssamples/KO/machine_KO_25.wav\n",
      "26 \tSaving soundssamples/KO/machine_KO_26.wav\n",
      "27 \tSaving soundssamples/KO/machine_KO_27.wav\n",
      "28 \tSaving soundssamples/KO/machine_KO_28.wav\n",
      "29 \tSaving soundssamples/KO/machine_KO_29.wav\n",
      "30 \tSaving soundssamples/KO/machine_KO_30.wav\n",
      "31 \tSaving soundssamples/KO/machine_KO_31.wav\n",
      "32 \tSaving soundssamples/KO/machine_KO_32.wav\n",
      "33 \tSaving soundssamples/KO/machine_KO_33.wav\n",
      "34 \tSaving soundssamples/KO/machine_KO_34.wav\n",
      "35 \tSaving soundssamples/KO/machine_KO_35.wav\n",
      "36 \tSaving soundssamples/KO/machine_KO_36.wav\n",
      "37 \tSaving soundssamples/KO/machine_KO_37.wav\n",
      "38 \tSaving soundssamples/KO/machine_KO_38.wav\n",
      "39 \tSaving soundssamples/KO/machine_KO_39.wav\n",
      "40 \tSaving soundssamples/KO/machine_KO_40.wav\n",
      "41 \tSaving soundssamples/KO/machine_KO_41.wav\n",
      "42 \tSaving soundssamples/KO/machine_KO_42.wav\n",
      "43 \tSaving soundssamples/KO/machine_KO_43.wav\n",
      "44 \tSaving soundssamples/KO/machine_KO_44.wav\n",
      "45 \tSaving soundssamples/KO/machine_KO_45.wav\n",
      "46 \tSaving soundssamples/KO/machine_KO_46.wav\n",
      "47 \tSaving soundssamples/KO/machine_KO_47.wav\n",
      "48 \tSaving soundssamples/KO/machine_KO_48.wav\n",
      "49 \tSaving soundssamples/KO/machine_KO_49.wav\n",
      "50 \tSaving soundssamples/KO/machine_KO_50.wav\n",
      "51 \tSaving soundssamples/KO/machine_KO_51.wav\n",
      "52 \tSaving soundssamples/KO/machine_KO_52.wav\n",
      "53 \tSaving soundssamples/KO/machine_KO_53.wav\n",
      "54 \tSaving soundssamples/KO/machine_KO_54.wav\n",
      "55 \tSaving soundssamples/KO/machine_KO_55.wav\n",
      "56 \tSaving soundssamples/KO/machine_KO_56.wav\n",
      "57 \tSaving soundssamples/KO/machine_KO_57.wav\n",
      "58 \tSaving soundssamples/KO/machine_KO_58.wav\n",
      "59 \tSaving soundssamples/KO/machine_KO_59.wav\n",
      "60 \tSaving soundssamples/KO/machine_KO_60.wav\n",
      "61 \tSaving soundssamples/KO/machine_KO_61.wav\n"
     ]
    }
   ],
   "source": [
    "soundfile = 'sounds/machinewithnoise.wav'\n",
    "\n",
    "myaudio = AudioSegment.from_file(soundfile, \"wav\")\n",
    "chunks = make_chunks(myaudio, chunk_length_ms) # Make chunks\n",
    "\n",
    "for i, chunk in enumerate(chunks):\n",
    "    chunk_name = \"soundssamples/KO/machine_KO_{0}.wav\".format(i + 1)\n",
    "    print(i + 1, \"\\tSaving\", chunk_name)\n",
    "    chunk.export(chunk_name, format=\"wav\")"
   ]
  },
  {
   "cell_type": "code",
   "execution_count": 17,
   "id": "396b43c4",
   "metadata": {},
   "outputs": [
    {
     "name": "stdout",
     "output_type": "stream",
     "text": [
      "Directory: soundssamples/KO/ with 61 files.\n"
     ]
    }
   ],
   "source": [
    "for root, _, files in os.walk('soundssamples/KO/'):\n",
    "    print(\"Directory:\", root, \"with\", len(files), \"files.\")"
   ]
  },
  {
   "cell_type": "markdown",
   "id": "91e62cf2",
   "metadata": {},
   "source": [
    "### List of audio files with no anomalies"
   ]
  },
  {
   "cell_type": "code",
   "execution_count": 18,
   "id": "43d9ee0e",
   "metadata": {},
   "outputs": [
    {
     "name": "stdout",
     "output_type": "stream",
     "text": [
      "total 72M\r\n",
      "-rwxrwxrwx 1 root root 1.2M May 31 08:56 machine_OK_1.wav\r\n",
      "-rwxrwxrwx 1 root root 1.2M May 31 08:56 machine_OK_10.wav\r\n",
      "-rwxrwxrwx 1 root root 1.2M May 31 08:56 machine_OK_11.wav\r\n",
      "-rwxrwxrwx 1 root root 1.2M May 31 08:56 machine_OK_12.wav\r\n",
      "-rwxrwxrwx 1 root root 1.2M May 31 08:56 machine_OK_13.wav\r\n",
      "-rwxrwxrwx 1 root root 1.2M May 31 08:56 machine_OK_14.wav\r\n",
      "-rwxrwxrwx 1 root root 1.2M May 31 08:56 machine_OK_15.wav\r\n",
      "-rwxrwxrwx 1 root root 1.2M May 31 08:56 machine_OK_16.wav\r\n",
      "-rwxrwxrwx 1 root root 1.2M May 31 08:56 machine_OK_17.wav\r\n",
      "-rwxrwxrwx 1 root root 1.2M May 31 08:56 machine_OK_18.wav\r\n",
      "-rwxrwxrwx 1 root root 1.2M May 31 08:56 machine_OK_19.wav\r\n",
      "-rwxrwxrwx 1 root root 1.2M May 31 08:56 machine_OK_2.wav\r\n",
      "-rwxrwxrwx 1 root root 1.2M May 31 08:56 machine_OK_20.wav\r\n",
      "-rwxrwxrwx 1 root root 1.2M May 31 08:56 machine_OK_21.wav\r\n",
      "-rwxrwxrwx 1 root root 1.2M May 31 08:56 machine_OK_22.wav\r\n",
      "-rwxrwxrwx 1 root root 1.2M May 31 08:56 machine_OK_23.wav\r\n",
      "-rwxrwxrwx 1 root root 1.2M May 31 08:56 machine_OK_24.wav\r\n",
      "-rwxrwxrwx 1 root root 1.2M May 31 08:56 machine_OK_25.wav\r\n",
      "-rwxrwxrwx 1 root root 1.2M May 31 08:56 machine_OK_26.wav\r\n",
      "-rwxrwxrwx 1 root root 1.2M May 31 08:56 machine_OK_27.wav\r\n",
      "-rwxrwxrwx 1 root root 1.2M May 31 08:56 machine_OK_28.wav\r\n",
      "-rwxrwxrwx 1 root root 1.2M May 31 08:56 machine_OK_29.wav\r\n",
      "-rwxrwxrwx 1 root root 1.2M May 31 08:56 machine_OK_3.wav\r\n",
      "-rwxrwxrwx 1 root root 1.2M May 31 08:56 machine_OK_30.wav\r\n",
      "-rwxrwxrwx 1 root root 1.2M May 31 08:56 machine_OK_31.wav\r\n",
      "-rwxrwxrwx 1 root root 1.2M May 31 08:56 machine_OK_32.wav\r\n",
      "-rwxrwxrwx 1 root root 1.2M May 31 08:56 machine_OK_33.wav\r\n",
      "-rwxrwxrwx 1 root root 1.2M May 31 08:56 machine_OK_34.wav\r\n",
      "-rwxrwxrwx 1 root root 1.2M May 31 08:56 machine_OK_35.wav\r\n",
      "-rwxrwxrwx 1 root root 1.2M May 31 08:56 machine_OK_36.wav\r\n",
      "-rwxrwxrwx 1 root root 1.2M May 31 08:56 machine_OK_37.wav\r\n",
      "-rwxrwxrwx 1 root root 1.2M May 31 08:56 machine_OK_38.wav\r\n",
      "-rwxrwxrwx 1 root root 1.2M May 31 08:56 machine_OK_39.wav\r\n",
      "-rwxrwxrwx 1 root root 1.2M May 31 08:56 machine_OK_4.wav\r\n",
      "-rwxrwxrwx 1 root root 1.2M May 31 08:56 machine_OK_40.wav\r\n",
      "-rwxrwxrwx 1 root root 1.2M May 31 08:56 machine_OK_41.wav\r\n",
      "-rwxrwxrwx 1 root root 1.2M May 31 08:56 machine_OK_42.wav\r\n",
      "-rwxrwxrwx 1 root root 1.2M May 31 08:56 machine_OK_43.wav\r\n",
      "-rwxrwxrwx 1 root root 1.2M May 31 08:56 machine_OK_44.wav\r\n",
      "-rwxrwxrwx 1 root root 1.2M May 31 08:56 machine_OK_45.wav\r\n",
      "-rwxrwxrwx 1 root root 1.2M May 31 08:56 machine_OK_46.wav\r\n",
      "-rwxrwxrwx 1 root root 1.2M May 31 08:56 machine_OK_47.wav\r\n",
      "-rwxrwxrwx 1 root root 1.2M May 31 08:56 machine_OK_48.wav\r\n",
      "-rwxrwxrwx 1 root root 1.2M May 31 08:56 machine_OK_49.wav\r\n",
      "-rwxrwxrwx 1 root root 1.2M May 31 08:56 machine_OK_5.wav\r\n",
      "-rwxrwxrwx 1 root root 1.2M May 31 08:56 machine_OK_50.wav\r\n",
      "-rwxrwxrwx 1 root root 1.2M May 31 08:56 machine_OK_51.wav\r\n",
      "-rwxrwxrwx 1 root root 1.2M May 31 08:56 machine_OK_52.wav\r\n",
      "-rwxrwxrwx 1 root root 1.2M May 31 08:56 machine_OK_53.wav\r\n",
      "-rwxrwxrwx 1 root root 1.2M May 31 08:56 machine_OK_54.wav\r\n",
      "-rwxrwxrwx 1 root root 1.2M May 31 08:56 machine_OK_55.wav\r\n",
      "-rwxrwxrwx 1 root root 1.2M May 31 08:56 machine_OK_56.wav\r\n",
      "-rwxrwxrwx 1 root root 1.2M May 31 08:56 machine_OK_57.wav\r\n",
      "-rwxrwxrwx 1 root root 1.2M May 31 08:56 machine_OK_58.wav\r\n",
      "-rwxrwxrwx 1 root root 1.2M May 31 08:56 machine_OK_59.wav\r\n",
      "-rwxrwxrwx 1 root root 1.2M May 31 08:56 machine_OK_6.wav\r\n",
      "-rwxrwxrwx 1 root root 1.2M May 31 08:56 machine_OK_60.wav\r\n",
      "-rwxrwxrwx 1 root root 651K May 31 08:56 machine_OK_61.wav\r\n",
      "-rwxrwxrwx 1 root root 1.2M May 31 08:56 machine_OK_7.wav\r\n",
      "-rwxrwxrwx 1 root root 1.2M May 31 08:56 machine_OK_8.wav\r\n",
      "-rwxrwxrwx 1 root root 1.2M May 31 08:56 machine_OK_9.wav\r\n"
     ]
    }
   ],
   "source": [
    "!ls soundssamples/OK/ -lh"
   ]
  },
  {
   "cell_type": "markdown",
   "id": "bb416b23",
   "metadata": {},
   "source": [
    "### List audio of files with sound anomalies"
   ]
  },
  {
   "cell_type": "code",
   "execution_count": 19,
   "id": "27ef17d3",
   "metadata": {},
   "outputs": [
    {
     "name": "stdout",
     "output_type": "stream",
     "text": [
      "total 72M\r\n",
      "-rwxrwxrwx 1 root root 1.2M May 31 08:56 machine_KO_1.wav\r\n",
      "-rwxrwxrwx 1 root root 1.2M May 31 08:56 machine_KO_10.wav\r\n",
      "-rwxrwxrwx 1 root root 1.2M May 31 08:56 machine_KO_11.wav\r\n",
      "-rwxrwxrwx 1 root root 1.2M May 31 08:56 machine_KO_12.wav\r\n",
      "-rwxrwxrwx 1 root root 1.2M May 31 08:56 machine_KO_13.wav\r\n",
      "-rwxrwxrwx 1 root root 1.2M May 31 08:56 machine_KO_14.wav\r\n",
      "-rwxrwxrwx 1 root root 1.2M May 31 08:56 machine_KO_15.wav\r\n",
      "-rwxrwxrwx 1 root root 1.2M May 31 08:56 machine_KO_16.wav\r\n",
      "-rwxrwxrwx 1 root root 1.2M May 31 08:56 machine_KO_17.wav\r\n",
      "-rwxrwxrwx 1 root root 1.2M May 31 08:56 machine_KO_18.wav\r\n",
      "-rwxrwxrwx 1 root root 1.2M May 31 08:56 machine_KO_19.wav\r\n",
      "-rwxrwxrwx 1 root root 1.2M May 31 08:56 machine_KO_2.wav\r\n",
      "-rwxrwxrwx 1 root root 1.2M May 31 08:56 machine_KO_20.wav\r\n",
      "-rwxrwxrwx 1 root root 1.2M May 31 08:56 machine_KO_21.wav\r\n",
      "-rwxrwxrwx 1 root root 1.2M May 31 08:56 machine_KO_22.wav\r\n",
      "-rwxrwxrwx 1 root root 1.2M May 31 08:56 machine_KO_23.wav\r\n",
      "-rwxrwxrwx 1 root root 1.2M May 31 08:56 machine_KO_24.wav\r\n",
      "-rwxrwxrwx 1 root root 1.2M May 31 08:56 machine_KO_25.wav\r\n",
      "-rwxrwxrwx 1 root root 1.2M May 31 08:56 machine_KO_26.wav\r\n",
      "-rwxrwxrwx 1 root root 1.2M May 31 08:56 machine_KO_27.wav\r\n",
      "-rwxrwxrwx 1 root root 1.2M May 31 08:56 machine_KO_28.wav\r\n",
      "-rwxrwxrwx 1 root root 1.2M May 31 08:56 machine_KO_29.wav\r\n",
      "-rwxrwxrwx 1 root root 1.2M May 31 08:56 machine_KO_3.wav\r\n",
      "-rwxrwxrwx 1 root root 1.2M May 31 08:56 machine_KO_30.wav\r\n",
      "-rwxrwxrwx 1 root root 1.2M May 31 08:56 machine_KO_31.wav\r\n",
      "-rwxrwxrwx 1 root root 1.2M May 31 08:56 machine_KO_32.wav\r\n",
      "-rwxrwxrwx 1 root root 1.2M May 31 08:56 machine_KO_33.wav\r\n",
      "-rwxrwxrwx 1 root root 1.2M May 31 08:56 machine_KO_34.wav\r\n",
      "-rwxrwxrwx 1 root root 1.2M May 31 08:56 machine_KO_35.wav\r\n",
      "-rwxrwxrwx 1 root root 1.2M May 31 08:56 machine_KO_36.wav\r\n",
      "-rwxrwxrwx 1 root root 1.2M May 31 08:56 machine_KO_37.wav\r\n",
      "-rwxrwxrwx 1 root root 1.2M May 31 08:56 machine_KO_38.wav\r\n",
      "-rwxrwxrwx 1 root root 1.2M May 31 08:56 machine_KO_39.wav\r\n",
      "-rwxrwxrwx 1 root root 1.2M May 31 08:56 machine_KO_4.wav\r\n",
      "-rwxrwxrwx 1 root root 1.2M May 31 08:56 machine_KO_40.wav\r\n",
      "-rwxrwxrwx 1 root root 1.2M May 31 08:56 machine_KO_41.wav\r\n",
      "-rwxrwxrwx 1 root root 1.2M May 31 08:56 machine_KO_42.wav\r\n",
      "-rwxrwxrwx 1 root root 1.2M May 31 08:56 machine_KO_43.wav\r\n",
      "-rwxrwxrwx 1 root root 1.2M May 31 08:56 machine_KO_44.wav\r\n",
      "-rwxrwxrwx 1 root root 1.2M May 31 08:56 machine_KO_45.wav\r\n",
      "-rwxrwxrwx 1 root root 1.2M May 31 08:56 machine_KO_46.wav\r\n",
      "-rwxrwxrwx 1 root root 1.2M May 31 08:56 machine_KO_47.wav\r\n",
      "-rwxrwxrwx 1 root root 1.2M May 31 08:56 machine_KO_48.wav\r\n",
      "-rwxrwxrwx 1 root root 1.2M May 31 08:56 machine_KO_49.wav\r\n",
      "-rwxrwxrwx 1 root root 1.2M May 31 08:56 machine_KO_5.wav\r\n",
      "-rwxrwxrwx 1 root root 1.2M May 31 08:56 machine_KO_50.wav\r\n",
      "-rwxrwxrwx 1 root root 1.2M May 31 08:56 machine_KO_51.wav\r\n",
      "-rwxrwxrwx 1 root root 1.2M May 31 08:56 machine_KO_52.wav\r\n",
      "-rwxrwxrwx 1 root root 1.2M May 31 08:56 machine_KO_53.wav\r\n",
      "-rwxrwxrwx 1 root root 1.2M May 31 08:56 machine_KO_54.wav\r\n",
      "-rwxrwxrwx 1 root root 1.2M May 31 08:56 machine_KO_55.wav\r\n",
      "-rwxrwxrwx 1 root root 1.2M May 31 08:56 machine_KO_56.wav\r\n",
      "-rwxrwxrwx 1 root root 1.2M May 31 08:56 machine_KO_57.wav\r\n",
      "-rwxrwxrwx 1 root root 1.2M May 31 08:56 machine_KO_58.wav\r\n",
      "-rwxrwxrwx 1 root root 1.2M May 31 08:56 machine_KO_59.wav\r\n",
      "-rwxrwxrwx 1 root root 1.2M May 31 08:56 machine_KO_6.wav\r\n",
      "-rwxrwxrwx 1 root root 1.2M May 31 08:56 machine_KO_60.wav\r\n",
      "-rwxrwxrwx 1 root root 651K May 31 08:56 machine_KO_61.wav\r\n",
      "-rwxrwxrwx 1 root root 1.2M May 31 08:56 machine_KO_7.wav\r\n",
      "-rwxrwxrwx 1 root root 1.2M May 31 08:56 machine_KO_8.wav\r\n",
      "-rwxrwxrwx 1 root root 1.2M May 31 08:56 machine_KO_9.wav\r\n"
     ]
    }
   ],
   "source": [
    "!ls soundssamples/KO/ -lh"
   ]
  },
  {
   "cell_type": "markdown",
   "id": "0f1e0265",
   "metadata": {},
   "source": [
    "> End. You can go to the next notebook"
   ]
  },
  {
   "cell_type": "markdown",
   "id": "987312d1",
   "metadata": {},
   "source": [
    "Note: All these Python notebooks were made for demo purposes. They were not designed for production usage. Some feature can be currently in public preview. This preview version is provided without a service-level agreement. Certain features might not be supported or might have constrained capabilities. For more information, see Supplemental Terms of Use for Microsoft Azure Previews. https://azure.microsoft.com/en-us/support/legal/preview-supplemental-terms/"
   ]
  },
  {
   "cell_type": "code",
   "execution_count": null,
   "id": "aa051b38",
   "metadata": {},
   "outputs": [],
   "source": []
  }
 ],
 "metadata": {
  "kernelspec": {
   "display_name": "Python 3.8 - Pytorch and Tensorflow",
   "language": "python",
   "name": "azureml_py38_pt_tf"
  },
  "language_info": {
   "codemirror_mode": {
    "name": "ipython",
    "version": 3
   },
   "file_extension": ".py",
   "mimetype": "text/x-python",
   "name": "python",
   "nbconvert_exporter": "python",
   "pygments_lexer": "ipython3",
   "version": "3.8.5"
  }
 },
 "nbformat": 4,
 "nbformat_minor": 5
}
