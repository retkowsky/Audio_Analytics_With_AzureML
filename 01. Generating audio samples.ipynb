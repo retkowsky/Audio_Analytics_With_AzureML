{
 "cells": [
  {
   "cell_type": "markdown",
   "id": "557aff23",
   "metadata": {},
   "source": [
    "# Acoustic Anomaly Detection based on Images with Azure AutoML for Images\n",
    "\n",
    "## 1. Generating audio samples\n",
    "\n",
    "<img src='https://github.com/retkowsky/CustomVision_Datasets/blob/master/anomaly.png?raw=true' width = 600>\n",
    "\n",
    "<div class=\"alert alert-info\"> <b> In this notebook We will generate some sample audio files from 2 main files</b></div>\n",
    "\n",
    "Serge Retkowsky | serge.retkowsky@microsoft.com | 25-Oct-2022 | V3"
   ]
  },
  {
   "cell_type": "code",
   "execution_count": 1,
   "id": "2278b27c",
   "metadata": {},
   "outputs": [],
   "source": [
    "#pip install pydub"
   ]
  },
  {
   "cell_type": "code",
   "execution_count": 2,
   "id": "ccbd719e",
   "metadata": {},
   "outputs": [],
   "source": [
    "import datetime\n",
    "import os.path\n",
    "import sys\n",
    "import warnings\n",
    "\n",
    "warnings.filterwarnings(\"ignore\")\n",
    "\n",
    "from os import path\n",
    "from pydub import AudioSegment\n",
    "from pydub.utils import make_chunks"
   ]
  },
  {
   "cell_type": "code",
   "execution_count": 3,
   "id": "a2f6d663",
   "metadata": {},
   "outputs": [
    {
     "data": {
      "text/plain": [
       "'3.8.5 (default, Sep  4 2020, 07:30:14) \\n[GCC 7.3.0]'"
      ]
     },
     "execution_count": 3,
     "metadata": {},
     "output_type": "execute_result"
    }
   ],
   "source": [
    "sys.version"
   ]
  },
  {
   "cell_type": "code",
   "execution_count": 4,
   "id": "86142e96",
   "metadata": {},
   "outputs": [
    {
     "name": "stdout",
     "output_type": "stream",
     "text": [
      "2022-10-25 12:50:19\n"
     ]
    }
   ],
   "source": [
    "print(datetime.datetime.now().strftime(\"%Y-%m-%d %H:%M:%S\"))"
   ]
  },
  {
   "cell_type": "code",
   "execution_count": 5,
   "id": "9977414f",
   "metadata": {},
   "outputs": [],
   "source": [
    "def create_dir(dir1):\n",
    "    \"\"\"\n",
    "    Create a directory\n",
    "    \"\"\"\n",
    "    if path.os.path.isdir(dir1):\n",
    "        print(\"Directory:\", dir1, \"exists\")\n",
    "    else:\n",
    "        print(\"Creating directory:\", dir1)\n",
    "        os.mkdir(dir1)\n",
    "        print(\"Done\")"
   ]
  },
  {
   "cell_type": "markdown",
   "id": "ac0b0a58",
   "metadata": {},
   "source": [
    "## Initial audio files"
   ]
  },
  {
   "cell_type": "code",
   "execution_count": 6,
   "id": "7f814f17",
   "metadata": {},
   "outputs": [
    {
     "name": "stdout",
     "output_type": "stream",
     "text": [
      "Creating directory: raw_sounds\n",
      "Done\n"
     ]
    }
   ],
   "source": [
    "create_dir(\"raw_sounds\")"
   ]
  },
  {
   "cell_type": "code",
   "execution_count": 7,
   "id": "d781ae12",
   "metadata": {},
   "outputs": [
    {
     "name": "stdout",
     "output_type": "stream",
     "text": [
      "Downloading the raw sounds files...\n",
      "\n",
      "--2022-10-25 12:52:12--  https://www.dropbox.com/s/qxn3u4sim1s4w9j/machine.wav\n",
      "Resolving www.dropbox.com (www.dropbox.com)... 162.125.66.18, 2620:100:6021:18::a27d:4112\n",
      "Connecting to www.dropbox.com (www.dropbox.com)|162.125.66.18|:443... connected.\n",
      "HTTP request sent, awaiting response... 302 Found\n",
      "Location: /s/raw/qxn3u4sim1s4w9j/machine.wav [following]\n",
      "--2022-10-25 12:52:13--  https://www.dropbox.com/s/raw/qxn3u4sim1s4w9j/machine.wav\n",
      "Reusing existing connection to www.dropbox.com:443.\n",
      "HTTP request sent, awaiting response... 302 Found\n",
      "Location: https://ucffb3ddac417e3ff01287feda2d.dl.dropboxusercontent.com/cd/0/inline/Bve9qVCeb2aHr91qOl18RdZ7_7g-u1octSITg2yZDHcTNvH145_tfEkrBcp-NhWgEde9vIGKTbtEy88dPiawj01ET0RPY5XtvZh3nstrWdN7yeoM61fXvHdbrWotDemVDYojxYRaRkCfoWhHrlC0_6avUe6N_ILFWhvdSs_Oaaf7MA/file# [following]\n",
      "--2022-10-25 12:52:13--  https://ucffb3ddac417e3ff01287feda2d.dl.dropboxusercontent.com/cd/0/inline/Bve9qVCeb2aHr91qOl18RdZ7_7g-u1octSITg2yZDHcTNvH145_tfEkrBcp-NhWgEde9vIGKTbtEy88dPiawj01ET0RPY5XtvZh3nstrWdN7yeoM61fXvHdbrWotDemVDYojxYRaRkCfoWhHrlC0_6avUe6N_ILFWhvdSs_Oaaf7MA/file\n",
      "Resolving ucffb3ddac417e3ff01287feda2d.dl.dropboxusercontent.com (ucffb3ddac417e3ff01287feda2d.dl.dropboxusercontent.com)... 162.125.66.15, 2620:100:6021:15::a27d:410f\n",
      "Connecting to ucffb3ddac417e3ff01287feda2d.dl.dropboxusercontent.com (ucffb3ddac417e3ff01287feda2d.dl.dropboxusercontent.com)|162.125.66.15|:443... connected.\n",
      "HTTP request sent, awaiting response... 200 OK\n",
      "Length: 74753800 (71M) [audio/x-wav]\n",
      "Saving to: ‘machine.wav’\n",
      "\n",
      "machine.wav         100%[===================>]  71.29M  21.0MB/s    in 3.4s    \n",
      "\n",
      "2022-10-25 12:52:18 (21.0 MB/s) - ‘machine.wav’ saved [74753800/74753800]\n",
      "\n",
      "--2022-10-25 12:52:19--  https://www.dropbox.com/s/4twwpzv7vwdae15/machinewithnoise.wav\n",
      "Resolving www.dropbox.com (www.dropbox.com)... 162.125.66.18, 2620:100:6021:18::a27d:4112\n",
      "Connecting to www.dropbox.com (www.dropbox.com)|162.125.66.18|:443... connected.\n",
      "HTTP request sent, awaiting response... 302 Found\n",
      "Location: /s/raw/4twwpzv7vwdae15/machinewithnoise.wav [following]\n",
      "--2022-10-25 12:52:19--  https://www.dropbox.com/s/raw/4twwpzv7vwdae15/machinewithnoise.wav\n",
      "Reusing existing connection to www.dropbox.com:443.\n",
      "HTTP request sent, awaiting response... 302 Found\n",
      "Location: https://uc03f6d24e122d23e107007afed2.dl.dropboxusercontent.com/cd/0/inline/Bvcv9YhiH27lnBMIBNyWdUswg3z1J-UEby3z5PP8dqXtExViL5ZG8yn27SuO-jqIBrzULLmKBea7valv8KxvarIOhMPhOx-jgnqQ8Pj56bXoE8ea0rtVv5UG20mM6zujrYeWB7GMCfAXtLiHy4l8PpDjfETcwoAYgu_ItiKddwOVsQ/file# [following]\n",
      "--2022-10-25 12:52:19--  https://uc03f6d24e122d23e107007afed2.dl.dropboxusercontent.com/cd/0/inline/Bvcv9YhiH27lnBMIBNyWdUswg3z1J-UEby3z5PP8dqXtExViL5ZG8yn27SuO-jqIBrzULLmKBea7valv8KxvarIOhMPhOx-jgnqQ8Pj56bXoE8ea0rtVv5UG20mM6zujrYeWB7GMCfAXtLiHy4l8PpDjfETcwoAYgu_ItiKddwOVsQ/file\n",
      "Resolving uc03f6d24e122d23e107007afed2.dl.dropboxusercontent.com (uc03f6d24e122d23e107007afed2.dl.dropboxusercontent.com)... 162.125.68.15, 2620:100:6021:15::a27d:410f\n",
      "Connecting to uc03f6d24e122d23e107007afed2.dl.dropboxusercontent.com (uc03f6d24e122d23e107007afed2.dl.dropboxusercontent.com)|162.125.68.15|:443... connected.\n",
      "HTTP request sent, awaiting response... 200 OK\n",
      "Length: 74753800 (71M) [audio/x-wav]\n",
      "Saving to: ‘machinewithnoise.wav’\n",
      "\n",
      "machinewithnoise.wa 100%[===================>]  71.29M  18.3MB/s    in 4.0s    \n",
      "\n",
      "2022-10-25 12:52:25 (17.9 MB/s) - ‘machinewithnoise.wav’ saved [74753800/74753800]\n",
      "\n",
      "\n",
      "Done\n"
     ]
    }
   ],
   "source": [
    "if os.path.isdir(\"raw_sounds\"):\n",
    "    os.chdir(\"raw_sounds\")\n",
    "    print(\"Downloading the raw sounds files...\\n\")\n",
    "    !wget \"https://www.dropbox.com/s/qxn3u4sim1s4w9j/machine.wav\"\n",
    "    !wget \"https://www.dropbox.com/s/4twwpzv7vwdae15/machinewithnoise.wav\"\n",
    "    print(\"\\nDone\")\n",
    "    os.chdir('..')"
   ]
  },
  {
   "cell_type": "code",
   "execution_count": 8,
   "id": "153fd655",
   "metadata": {},
   "outputs": [
    {
     "name": "stdout",
     "output_type": "stream",
     "text": [
      "-rwxrwxrwx 1 root root 72M Oct 25 12:52 raw_sounds/machine.wav\r\n",
      "-rwxrwxrwx 1 root root 72M Oct 25 12:52 raw_sounds/machinewithnoise.wav\r\n"
     ]
    }
   ],
   "source": [
    "!ls raw_sounds/*.* -lh"
   ]
  },
  {
   "cell_type": "markdown",
   "id": "fa933ff5",
   "metadata": {},
   "source": [
    "## 7 seconds files generation"
   ]
  },
  {
   "cell_type": "code",
   "execution_count": 9,
   "id": "ee4e334c",
   "metadata": {},
   "outputs": [
    {
     "name": "stdout",
     "output_type": "stream",
     "text": [
      "Creating directory: audio_samples\n",
      "Done\n",
      "Creating directory: audio_samples/OK\n",
      "Done\n",
      "Creating directory: audio_samples/KO\n",
      "Done\n"
     ]
    }
   ],
   "source": [
    "create_dir('audio_samples')\n",
    "create_dir('audio_samples/OK')\n",
    "create_dir('audio_samples/KO')"
   ]
  },
  {
   "cell_type": "code",
   "execution_count": 10,
   "id": "29df4a5b",
   "metadata": {},
   "outputs": [
    {
     "name": "stdout",
     "output_type": "stream",
     "text": [
      "1 \tExporting audio_samples/OK/machine_OK_1.wav\n",
      "2 \tExporting audio_samples/OK/machine_OK_2.wav\n",
      "3 \tExporting audio_samples/OK/machine_OK_3.wav\n",
      "4 \tExporting audio_samples/OK/machine_OK_4.wav\n",
      "5 \tExporting audio_samples/OK/machine_OK_5.wav\n",
      "6 \tExporting audio_samples/OK/machine_OK_6.wav\n",
      "7 \tExporting audio_samples/OK/machine_OK_7.wav\n",
      "8 \tExporting audio_samples/OK/machine_OK_8.wav\n",
      "9 \tExporting audio_samples/OK/machine_OK_9.wav\n",
      "10 \tExporting audio_samples/OK/machine_OK_10.wav\n",
      "11 \tExporting audio_samples/OK/machine_OK_11.wav\n",
      "12 \tExporting audio_samples/OK/machine_OK_12.wav\n",
      "13 \tExporting audio_samples/OK/machine_OK_13.wav\n",
      "14 \tExporting audio_samples/OK/machine_OK_14.wav\n",
      "15 \tExporting audio_samples/OK/machine_OK_15.wav\n",
      "16 \tExporting audio_samples/OK/machine_OK_16.wav\n",
      "17 \tExporting audio_samples/OK/machine_OK_17.wav\n",
      "18 \tExporting audio_samples/OK/machine_OK_18.wav\n",
      "19 \tExporting audio_samples/OK/machine_OK_19.wav\n",
      "20 \tExporting audio_samples/OK/machine_OK_20.wav\n",
      "21 \tExporting audio_samples/OK/machine_OK_21.wav\n",
      "22 \tExporting audio_samples/OK/machine_OK_22.wav\n",
      "23 \tExporting audio_samples/OK/machine_OK_23.wav\n",
      "24 \tExporting audio_samples/OK/machine_OK_24.wav\n",
      "25 \tExporting audio_samples/OK/machine_OK_25.wav\n",
      "26 \tExporting audio_samples/OK/machine_OK_26.wav\n",
      "27 \tExporting audio_samples/OK/machine_OK_27.wav\n",
      "28 \tExporting audio_samples/OK/machine_OK_28.wav\n",
      "29 \tExporting audio_samples/OK/machine_OK_29.wav\n",
      "30 \tExporting audio_samples/OK/machine_OK_30.wav\n",
      "31 \tExporting audio_samples/OK/machine_OK_31.wav\n",
      "32 \tExporting audio_samples/OK/machine_OK_32.wav\n",
      "33 \tExporting audio_samples/OK/machine_OK_33.wav\n",
      "34 \tExporting audio_samples/OK/machine_OK_34.wav\n",
      "35 \tExporting audio_samples/OK/machine_OK_35.wav\n",
      "36 \tExporting audio_samples/OK/machine_OK_36.wav\n",
      "37 \tExporting audio_samples/OK/machine_OK_37.wav\n",
      "38 \tExporting audio_samples/OK/machine_OK_38.wav\n",
      "39 \tExporting audio_samples/OK/machine_OK_39.wav\n",
      "40 \tExporting audio_samples/OK/machine_OK_40.wav\n",
      "41 \tExporting audio_samples/OK/machine_OK_41.wav\n",
      "42 \tExporting audio_samples/OK/machine_OK_42.wav\n",
      "43 \tExporting audio_samples/OK/machine_OK_43.wav\n",
      "44 \tExporting audio_samples/OK/machine_OK_44.wav\n",
      "45 \tExporting audio_samples/OK/machine_OK_45.wav\n",
      "46 \tExporting audio_samples/OK/machine_OK_46.wav\n",
      "47 \tExporting audio_samples/OK/machine_OK_47.wav\n",
      "48 \tExporting audio_samples/OK/machine_OK_48.wav\n",
      "49 \tExporting audio_samples/OK/machine_OK_49.wav\n",
      "50 \tExporting audio_samples/OK/machine_OK_50.wav\n",
      "51 \tExporting audio_samples/OK/machine_OK_51.wav\n",
      "52 \tExporting audio_samples/OK/machine_OK_52.wav\n",
      "53 \tExporting audio_samples/OK/machine_OK_53.wav\n",
      "54 \tExporting audio_samples/OK/machine_OK_54.wav\n",
      "55 \tExporting audio_samples/OK/machine_OK_55.wav\n",
      "56 \tExporting audio_samples/OK/machine_OK_56.wav\n",
      "57 \tExporting audio_samples/OK/machine_OK_57.wav\n",
      "58 \tExporting audio_samples/OK/machine_OK_58.wav\n",
      "59 \tExporting audio_samples/OK/machine_OK_59.wav\n",
      "60 \tExporting audio_samples/OK/machine_OK_60.wav\n",
      "61 \tExporting audio_samples/OK/machine_OK_61.wav\n"
     ]
    }
   ],
   "source": [
    "soundfile = 'raw_sounds/machine.wav'\n",
    "\n",
    "myaudio = AudioSegment.from_file(soundfile, \"wav\")\n",
    "\n",
    "chunk_length_ms = 7000  # in millisec\n",
    "chunks = make_chunks(myaudio, chunk_length_ms)  # Make chunks\n",
    "\n",
    "for i, chunk in enumerate(chunks):\n",
    "    chunk_name = \"audio_samples/OK/machine_OK_{0}.wav\".format(i+1)\n",
    "    print(i+1, \"\\tExporting\", chunk_name)\n",
    "    chunk.export(chunk_name, format=\"wav\")"
   ]
  },
  {
   "cell_type": "code",
   "execution_count": 11,
   "id": "96a23359",
   "metadata": {},
   "outputs": [
    {
     "name": "stdout",
     "output_type": "stream",
     "text": [
      "Directory: audio_samples/OK/ with 61 files\n"
     ]
    }
   ],
   "source": [
    "for root, _, files in os.walk('audio_samples/OK/'):\n",
    "    print(\"Directory:\", root, \"with\", len(files), \"files\")"
   ]
  },
  {
   "cell_type": "code",
   "execution_count": 12,
   "id": "c2817055",
   "metadata": {},
   "outputs": [
    {
     "name": "stdout",
     "output_type": "stream",
     "text": [
      "1 \tExporting audio_samples/KO/machine_KO_1.wav\n",
      "2 \tExporting audio_samples/KO/machine_KO_2.wav\n",
      "3 \tExporting audio_samples/KO/machine_KO_3.wav\n",
      "4 \tExporting audio_samples/KO/machine_KO_4.wav\n",
      "5 \tExporting audio_samples/KO/machine_KO_5.wav\n",
      "6 \tExporting audio_samples/KO/machine_KO_6.wav\n",
      "7 \tExporting audio_samples/KO/machine_KO_7.wav\n",
      "8 \tExporting audio_samples/KO/machine_KO_8.wav\n",
      "9 \tExporting audio_samples/KO/machine_KO_9.wav\n",
      "10 \tExporting audio_samples/KO/machine_KO_10.wav\n",
      "11 \tExporting audio_samples/KO/machine_KO_11.wav\n",
      "12 \tExporting audio_samples/KO/machine_KO_12.wav\n",
      "13 \tExporting audio_samples/KO/machine_KO_13.wav\n",
      "14 \tExporting audio_samples/KO/machine_KO_14.wav\n",
      "15 \tExporting audio_samples/KO/machine_KO_15.wav\n",
      "16 \tExporting audio_samples/KO/machine_KO_16.wav\n",
      "17 \tExporting audio_samples/KO/machine_KO_17.wav\n",
      "18 \tExporting audio_samples/KO/machine_KO_18.wav\n",
      "19 \tExporting audio_samples/KO/machine_KO_19.wav\n",
      "20 \tExporting audio_samples/KO/machine_KO_20.wav\n",
      "21 \tExporting audio_samples/KO/machine_KO_21.wav\n",
      "22 \tExporting audio_samples/KO/machine_KO_22.wav\n",
      "23 \tExporting audio_samples/KO/machine_KO_23.wav\n",
      "24 \tExporting audio_samples/KO/machine_KO_24.wav\n",
      "25 \tExporting audio_samples/KO/machine_KO_25.wav\n",
      "26 \tExporting audio_samples/KO/machine_KO_26.wav\n",
      "27 \tExporting audio_samples/KO/machine_KO_27.wav\n",
      "28 \tExporting audio_samples/KO/machine_KO_28.wav\n",
      "29 \tExporting audio_samples/KO/machine_KO_29.wav\n",
      "30 \tExporting audio_samples/KO/machine_KO_30.wav\n",
      "31 \tExporting audio_samples/KO/machine_KO_31.wav\n",
      "32 \tExporting audio_samples/KO/machine_KO_32.wav\n",
      "33 \tExporting audio_samples/KO/machine_KO_33.wav\n",
      "34 \tExporting audio_samples/KO/machine_KO_34.wav\n",
      "35 \tExporting audio_samples/KO/machine_KO_35.wav\n",
      "36 \tExporting audio_samples/KO/machine_KO_36.wav\n",
      "37 \tExporting audio_samples/KO/machine_KO_37.wav\n",
      "38 \tExporting audio_samples/KO/machine_KO_38.wav\n",
      "39 \tExporting audio_samples/KO/machine_KO_39.wav\n",
      "40 \tExporting audio_samples/KO/machine_KO_40.wav\n",
      "41 \tExporting audio_samples/KO/machine_KO_41.wav\n",
      "42 \tExporting audio_samples/KO/machine_KO_42.wav\n",
      "43 \tExporting audio_samples/KO/machine_KO_43.wav\n",
      "44 \tExporting audio_samples/KO/machine_KO_44.wav\n",
      "45 \tExporting audio_samples/KO/machine_KO_45.wav\n",
      "46 \tExporting audio_samples/KO/machine_KO_46.wav\n",
      "47 \tExporting audio_samples/KO/machine_KO_47.wav\n",
      "48 \tExporting audio_samples/KO/machine_KO_48.wav\n",
      "49 \tExporting audio_samples/KO/machine_KO_49.wav\n",
      "50 \tExporting audio_samples/KO/machine_KO_50.wav\n",
      "51 \tExporting audio_samples/KO/machine_KO_51.wav\n",
      "52 \tExporting audio_samples/KO/machine_KO_52.wav\n",
      "53 \tExporting audio_samples/KO/machine_KO_53.wav\n",
      "54 \tExporting audio_samples/KO/machine_KO_54.wav\n",
      "55 \tExporting audio_samples/KO/machine_KO_55.wav\n",
      "56 \tExporting audio_samples/KO/machine_KO_56.wav\n",
      "57 \tExporting audio_samples/KO/machine_KO_57.wav\n",
      "58 \tExporting audio_samples/KO/machine_KO_58.wav\n",
      "59 \tExporting audio_samples/KO/machine_KO_59.wav\n",
      "60 \tExporting audio_samples/KO/machine_KO_60.wav\n",
      "61 \tExporting audio_samples/KO/machine_KO_61.wav\n"
     ]
    }
   ],
   "source": [
    "soundfile = 'raw_sounds/machinewithnoise.wav'\n",
    "\n",
    "myaudio = AudioSegment.from_file(soundfile, \"wav\")\n",
    "\n",
    "chunk_length_ms = 7000  # in millisec\n",
    "chunks = make_chunks(myaudio, chunk_length_ms)  # Make chunks\n",
    "\n",
    "for i, chunk in enumerate(chunks):\n",
    "    chunk_name = \"audio_samples/KO/machine_KO_{0}.wav\".format(i+1)\n",
    "    print(i+1, \"\\tExporting\", chunk_name)\n",
    "    chunk.export(chunk_name, format=\"wav\")"
   ]
  },
  {
   "cell_type": "code",
   "execution_count": 13,
   "id": "396b43c4",
   "metadata": {},
   "outputs": [
    {
     "name": "stdout",
     "output_type": "stream",
     "text": [
      "Directory: audio_samples/KO/ with 61 files.\n"
     ]
    }
   ],
   "source": [
    "for root, _, files in os.walk('audio_samples/KO/'):\n",
    "    print(\"Directory:\", root, \"with\", len(files), \"files.\")"
   ]
  },
  {
   "cell_type": "code",
   "execution_count": 14,
   "id": "43d9ee0e",
   "metadata": {},
   "outputs": [
    {
     "name": "stdout",
     "output_type": "stream",
     "text": [
      "total 72M\r\n",
      "-rwxrwxrwx 1 root root 1.2M Oct 25 12:53 machine_OK_1.wav\r\n",
      "-rwxrwxrwx 1 root root 1.2M Oct 25 12:53 machine_OK_10.wav\r\n",
      "-rwxrwxrwx 1 root root 1.2M Oct 25 12:53 machine_OK_11.wav\r\n",
      "-rwxrwxrwx 1 root root 1.2M Oct 25 12:53 machine_OK_12.wav\r\n",
      "-rwxrwxrwx 1 root root 1.2M Oct 25 12:53 machine_OK_13.wav\r\n",
      "-rwxrwxrwx 1 root root 1.2M Oct 25 12:53 machine_OK_14.wav\r\n",
      "-rwxrwxrwx 1 root root 1.2M Oct 25 12:53 machine_OK_15.wav\r\n",
      "-rwxrwxrwx 1 root root 1.2M Oct 25 12:53 machine_OK_16.wav\r\n",
      "-rwxrwxrwx 1 root root 1.2M Oct 25 12:53 machine_OK_17.wav\r\n",
      "-rwxrwxrwx 1 root root 1.2M Oct 25 12:53 machine_OK_18.wav\r\n",
      "-rwxrwxrwx 1 root root 1.2M Oct 25 12:53 machine_OK_19.wav\r\n",
      "-rwxrwxrwx 1 root root 1.2M Oct 25 12:53 machine_OK_2.wav\r\n",
      "-rwxrwxrwx 1 root root 1.2M Oct 25 12:53 machine_OK_20.wav\r\n",
      "-rwxrwxrwx 1 root root 1.2M Oct 25 12:53 machine_OK_21.wav\r\n",
      "-rwxrwxrwx 1 root root 1.2M Oct 25 12:53 machine_OK_22.wav\r\n",
      "-rwxrwxrwx 1 root root 1.2M Oct 25 12:53 machine_OK_23.wav\r\n",
      "-rwxrwxrwx 1 root root 1.2M Oct 25 12:53 machine_OK_24.wav\r\n",
      "-rwxrwxrwx 1 root root 1.2M Oct 25 12:53 machine_OK_25.wav\r\n",
      "-rwxrwxrwx 1 root root 1.2M Oct 25 12:53 machine_OK_26.wav\r\n",
      "-rwxrwxrwx 1 root root 1.2M Oct 25 12:53 machine_OK_27.wav\r\n",
      "-rwxrwxrwx 1 root root 1.2M Oct 25 12:53 machine_OK_28.wav\r\n",
      "-rwxrwxrwx 1 root root 1.2M Oct 25 12:53 machine_OK_29.wav\r\n",
      "-rwxrwxrwx 1 root root 1.2M Oct 25 12:53 machine_OK_3.wav\r\n",
      "-rwxrwxrwx 1 root root 1.2M Oct 25 12:53 machine_OK_30.wav\r\n",
      "-rwxrwxrwx 1 root root 1.2M Oct 25 12:53 machine_OK_31.wav\r\n",
      "-rwxrwxrwx 1 root root 1.2M Oct 25 12:53 machine_OK_32.wav\r\n",
      "-rwxrwxrwx 1 root root 1.2M Oct 25 12:53 machine_OK_33.wav\r\n",
      "-rwxrwxrwx 1 root root 1.2M Oct 25 12:53 machine_OK_34.wav\r\n",
      "-rwxrwxrwx 1 root root 1.2M Oct 25 12:53 machine_OK_35.wav\r\n",
      "-rwxrwxrwx 1 root root 1.2M Oct 25 12:53 machine_OK_36.wav\r\n",
      "-rwxrwxrwx 1 root root 1.2M Oct 25 12:53 machine_OK_37.wav\r\n",
      "-rwxrwxrwx 1 root root 1.2M Oct 25 12:53 machine_OK_38.wav\r\n",
      "-rwxrwxrwx 1 root root 1.2M Oct 25 12:53 machine_OK_39.wav\r\n",
      "-rwxrwxrwx 1 root root 1.2M Oct 25 12:53 machine_OK_4.wav\r\n",
      "-rwxrwxrwx 1 root root 1.2M Oct 25 12:53 machine_OK_40.wav\r\n",
      "-rwxrwxrwx 1 root root 1.2M Oct 25 12:53 machine_OK_41.wav\r\n",
      "-rwxrwxrwx 1 root root 1.2M Oct 25 12:53 machine_OK_42.wav\r\n",
      "-rwxrwxrwx 1 root root 1.2M Oct 25 12:53 machine_OK_43.wav\r\n",
      "-rwxrwxrwx 1 root root 1.2M Oct 25 12:53 machine_OK_44.wav\r\n",
      "-rwxrwxrwx 1 root root 1.2M Oct 25 12:53 machine_OK_45.wav\r\n",
      "-rwxrwxrwx 1 root root 1.2M Oct 25 12:53 machine_OK_46.wav\r\n",
      "-rwxrwxrwx 1 root root 1.2M Oct 25 12:53 machine_OK_47.wav\r\n",
      "-rwxrwxrwx 1 root root 1.2M Oct 25 12:53 machine_OK_48.wav\r\n",
      "-rwxrwxrwx 1 root root 1.2M Oct 25 12:53 machine_OK_49.wav\r\n",
      "-rwxrwxrwx 1 root root 1.2M Oct 25 12:53 machine_OK_5.wav\r\n",
      "-rwxrwxrwx 1 root root 1.2M Oct 25 12:53 machine_OK_50.wav\r\n",
      "-rwxrwxrwx 1 root root 1.2M Oct 25 12:53 machine_OK_51.wav\r\n",
      "-rwxrwxrwx 1 root root 1.2M Oct 25 12:53 machine_OK_52.wav\r\n",
      "-rwxrwxrwx 1 root root 1.2M Oct 25 12:53 machine_OK_53.wav\r\n",
      "-rwxrwxrwx 1 root root 1.2M Oct 25 12:53 machine_OK_54.wav\r\n",
      "-rwxrwxrwx 1 root root 1.2M Oct 25 12:53 machine_OK_55.wav\r\n",
      "-rwxrwxrwx 1 root root 1.2M Oct 25 12:53 machine_OK_56.wav\r\n",
      "-rwxrwxrwx 1 root root 1.2M Oct 25 12:53 machine_OK_57.wav\r\n",
      "-rwxrwxrwx 1 root root 1.2M Oct 25 12:53 machine_OK_58.wav\r\n",
      "-rwxrwxrwx 1 root root 1.2M Oct 25 12:53 machine_OK_59.wav\r\n",
      "-rwxrwxrwx 1 root root 1.2M Oct 25 12:53 machine_OK_6.wav\r\n",
      "-rwxrwxrwx 1 root root 1.2M Oct 25 12:53 machine_OK_60.wav\r\n",
      "-rwxrwxrwx 1 root root 651K Oct 25 12:53 machine_OK_61.wav\r\n",
      "-rwxrwxrwx 1 root root 1.2M Oct 25 12:53 machine_OK_7.wav\r\n",
      "-rwxrwxrwx 1 root root 1.2M Oct 25 12:53 machine_OK_8.wav\r\n",
      "-rwxrwxrwx 1 root root 1.2M Oct 25 12:53 machine_OK_9.wav\r\n"
     ]
    }
   ],
   "source": [
    "!ls audio_samples/OK/ -lh"
   ]
  },
  {
   "cell_type": "code",
   "execution_count": 15,
   "id": "27ef17d3",
   "metadata": {},
   "outputs": [
    {
     "name": "stdout",
     "output_type": "stream",
     "text": [
      "total 72M\r\n",
      "-rwxrwxrwx 1 root root 1.2M Oct 25 12:54 machine_KO_1.wav\r\n",
      "-rwxrwxrwx 1 root root 1.2M Oct 25 12:54 machine_KO_10.wav\r\n",
      "-rwxrwxrwx 1 root root 1.2M Oct 25 12:54 machine_KO_11.wav\r\n",
      "-rwxrwxrwx 1 root root 1.2M Oct 25 12:54 machine_KO_12.wav\r\n",
      "-rwxrwxrwx 1 root root 1.2M Oct 25 12:54 machine_KO_13.wav\r\n",
      "-rwxrwxrwx 1 root root 1.2M Oct 25 12:54 machine_KO_14.wav\r\n",
      "-rwxrwxrwx 1 root root 1.2M Oct 25 12:54 machine_KO_15.wav\r\n",
      "-rwxrwxrwx 1 root root 1.2M Oct 25 12:54 machine_KO_16.wav\r\n",
      "-rwxrwxrwx 1 root root 1.2M Oct 25 12:54 machine_KO_17.wav\r\n",
      "-rwxrwxrwx 1 root root 1.2M Oct 25 12:54 machine_KO_18.wav\r\n",
      "-rwxrwxrwx 1 root root 1.2M Oct 25 12:54 machine_KO_19.wav\r\n",
      "-rwxrwxrwx 1 root root 1.2M Oct 25 12:54 machine_KO_2.wav\r\n",
      "-rwxrwxrwx 1 root root 1.2M Oct 25 12:54 machine_KO_20.wav\r\n",
      "-rwxrwxrwx 1 root root 1.2M Oct 25 12:54 machine_KO_21.wav\r\n",
      "-rwxrwxrwx 1 root root 1.2M Oct 25 12:54 machine_KO_22.wav\r\n",
      "-rwxrwxrwx 1 root root 1.2M Oct 25 12:54 machine_KO_23.wav\r\n",
      "-rwxrwxrwx 1 root root 1.2M Oct 25 12:54 machine_KO_24.wav\r\n",
      "-rwxrwxrwx 1 root root 1.2M Oct 25 12:54 machine_KO_25.wav\r\n",
      "-rwxrwxrwx 1 root root 1.2M Oct 25 12:54 machine_KO_26.wav\r\n",
      "-rwxrwxrwx 1 root root 1.2M Oct 25 12:54 machine_KO_27.wav\r\n",
      "-rwxrwxrwx 1 root root 1.2M Oct 25 12:54 machine_KO_28.wav\r\n",
      "-rwxrwxrwx 1 root root 1.2M Oct 25 12:54 machine_KO_29.wav\r\n",
      "-rwxrwxrwx 1 root root 1.2M Oct 25 12:54 machine_KO_3.wav\r\n",
      "-rwxrwxrwx 1 root root 1.2M Oct 25 12:54 machine_KO_30.wav\r\n",
      "-rwxrwxrwx 1 root root 1.2M Oct 25 12:54 machine_KO_31.wav\r\n",
      "-rwxrwxrwx 1 root root 1.2M Oct 25 12:54 machine_KO_32.wav\r\n",
      "-rwxrwxrwx 1 root root 1.2M Oct 25 12:54 machine_KO_33.wav\r\n",
      "-rwxrwxrwx 1 root root 1.2M Oct 25 12:54 machine_KO_34.wav\r\n",
      "-rwxrwxrwx 1 root root 1.2M Oct 25 12:54 machine_KO_35.wav\r\n",
      "-rwxrwxrwx 1 root root 1.2M Oct 25 12:54 machine_KO_36.wav\r\n",
      "-rwxrwxrwx 1 root root 1.2M Oct 25 12:54 machine_KO_37.wav\r\n",
      "-rwxrwxrwx 1 root root 1.2M Oct 25 12:54 machine_KO_38.wav\r\n",
      "-rwxrwxrwx 1 root root 1.2M Oct 25 12:54 machine_KO_39.wav\r\n",
      "-rwxrwxrwx 1 root root 1.2M Oct 25 12:54 machine_KO_4.wav\r\n",
      "-rwxrwxrwx 1 root root 1.2M Oct 25 12:54 machine_KO_40.wav\r\n",
      "-rwxrwxrwx 1 root root 1.2M Oct 25 12:54 machine_KO_41.wav\r\n",
      "-rwxrwxrwx 1 root root 1.2M Oct 25 12:54 machine_KO_42.wav\r\n",
      "-rwxrwxrwx 1 root root 1.2M Oct 25 12:54 machine_KO_43.wav\r\n",
      "-rwxrwxrwx 1 root root 1.2M Oct 25 12:54 machine_KO_44.wav\r\n",
      "-rwxrwxrwx 1 root root 1.2M Oct 25 12:54 machine_KO_45.wav\r\n",
      "-rwxrwxrwx 1 root root 1.2M Oct 25 12:54 machine_KO_46.wav\r\n",
      "-rwxrwxrwx 1 root root 1.2M Oct 25 12:54 machine_KO_47.wav\r\n",
      "-rwxrwxrwx 1 root root 1.2M Oct 25 12:54 machine_KO_48.wav\r\n",
      "-rwxrwxrwx 1 root root 1.2M Oct 25 12:54 machine_KO_49.wav\r\n",
      "-rwxrwxrwx 1 root root 1.2M Oct 25 12:54 machine_KO_5.wav\r\n",
      "-rwxrwxrwx 1 root root 1.2M Oct 25 12:54 machine_KO_50.wav\r\n",
      "-rwxrwxrwx 1 root root 1.2M Oct 25 12:54 machine_KO_51.wav\r\n",
      "-rwxrwxrwx 1 root root 1.2M Oct 25 12:54 machine_KO_52.wav\r\n",
      "-rwxrwxrwx 1 root root 1.2M Oct 25 12:54 machine_KO_53.wav\r\n",
      "-rwxrwxrwx 1 root root 1.2M Oct 25 12:54 machine_KO_54.wav\r\n",
      "-rwxrwxrwx 1 root root 1.2M Oct 25 12:54 machine_KO_55.wav\r\n",
      "-rwxrwxrwx 1 root root 1.2M Oct 25 12:54 machine_KO_56.wav\r\n",
      "-rwxrwxrwx 1 root root 1.2M Oct 25 12:54 machine_KO_57.wav\r\n",
      "-rwxrwxrwx 1 root root 1.2M Oct 25 12:54 machine_KO_58.wav\r\n",
      "-rwxrwxrwx 1 root root 1.2M Oct 25 12:54 machine_KO_59.wav\r\n",
      "-rwxrwxrwx 1 root root 1.2M Oct 25 12:54 machine_KO_6.wav\r\n",
      "-rwxrwxrwx 1 root root 1.2M Oct 25 12:54 machine_KO_60.wav\r\n",
      "-rwxrwxrwx 1 root root 651K Oct 25 12:54 machine_KO_61.wav\r\n",
      "-rwxrwxrwx 1 root root 1.2M Oct 25 12:54 machine_KO_7.wav\r\n",
      "-rwxrwxrwx 1 root root 1.2M Oct 25 12:54 machine_KO_8.wav\r\n",
      "-rwxrwxrwx 1 root root 1.2M Oct 25 12:54 machine_KO_9.wav\r\n"
     ]
    }
   ],
   "source": [
    "!ls audio_samples/KO/ -lh"
   ]
  },
  {
   "cell_type": "markdown",
   "id": "0f1e0265",
   "metadata": {},
   "source": [
    "> End. You can go to the next notebook"
   ]
  },
  {
   "cell_type": "markdown",
   "id": "987312d1",
   "metadata": {},
   "source": [
    "Note: All these Python notebooks were made for demo purposes. They were not designed for production usage. Some feature can be currently in public preview. This preview version is provided without a service-level agreement. Certain features might not be supported or might have constrained capabilities. For more information, see Supplemental Terms of Use for Microsoft Azure Previews. https://azure.microsoft.com/en-us/support/legal/preview-supplemental-terms/"
   ]
  },
  {
   "cell_type": "code",
   "execution_count": null,
   "id": "aa051b38",
   "metadata": {},
   "outputs": [],
   "source": []
  }
 ],
 "metadata": {
  "kernelspec": {
   "display_name": "Python 3 (ipykernel)",
   "language": "python",
   "name": "python3"
  },
  "language_info": {
   "codemirror_mode": {
    "name": "ipython",
    "version": 3
   },
   "file_extension": ".py",
   "mimetype": "text/x-python",
   "name": "python",
   "nbconvert_exporter": "python",
   "pygments_lexer": "ipython3",
   "version": "3.8.5"
  }
 },
 "nbformat": 4,
 "nbformat_minor": 5
}
